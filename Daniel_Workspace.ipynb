{
 "cells": [
  {
   "cell_type": "markdown",
   "metadata": {},
   "source": [
    "# Imports"
   ]
  },
  {
   "cell_type": "code",
   "execution_count": 2,
   "metadata": {},
   "outputs": [],
   "source": [
    "##ALL OF THE IMPORTS AND SUCH\n",
    "\n",
    "# from LightPipes import *\n",
    "# import matplotlib.pyplot as plt\n",
    "# import matplotlib.colors\n",
    "# import matplotlib.cm\n",
    "# import math\n",
    "# import cmath\n",
    "# from numpy import genfromtxt\n",
    "# import colorcet as cc\n",
    "# import random\n",
    "# import aotools\n",
    "# import itertools\n",
    "# from tqdm import tqdm as progress\n",
    "\n",
    "# import numpy as np\n",
    "# from numpy.linalg import eig,eigh\n",
    "# import scipy as sp\n",
    "\n",
    "# plt.style.use('dark_background')"
   ]
  },
  {
   "cell_type": "markdown",
   "metadata": {},
   "source": [
    "# Propagating Beam"
   ]
  },
  {
   "cell_type": "code",
   "execution_count": null,
   "metadata": {},
   "outputs": [],
   "source": []
  }
 ],
 "metadata": {
  "kernelspec": {
   "display_name": "venv_3_12",
   "language": "python",
   "name": "python3"
  },
  "language_info": {
   "codemirror_mode": {
    "name": "ipython",
    "version": 3
   },
   "file_extension": ".py",
   "mimetype": "text/x-python",
   "name": "python",
   "nbconvert_exporter": "python",
   "pygments_lexer": "ipython3",
   "version": "3.12.9"
  }
 },
 "nbformat": 4,
 "nbformat_minor": 2
}
