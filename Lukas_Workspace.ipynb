{
 "cells": [
  {
   "cell_type": "code",
   "execution_count": null,
   "metadata": {},
   "outputs": [],
   "source": [
    "##ALL OF THE IMPORTS AND SUCH\n",
    "\n",
    "from LightPipes import *\n",
    "import matplotlib.pyplot as plt\n",
    "import matplotlib.colors\n",
    "import matplotlib.cm\n",
    "import math\n",
    "from numpy import genfromtxt\n",
    "import colorcet as cc\n",
    "import random\n",
    "import aotools\n",
    "import itertools\n",
    "\n",
    "import numpy as np\n",
    "import scipy as sp\n",
    "\n",
    "plt.style.use('dark_background')"
   ]
  },
  {
   "cell_type": "code",
   "execution_count": null,
   "metadata": {},
   "outputs": [],
   "source": [
    "#Generate Colormap Intensity\n",
    "cmap = np.zeros([256, 4])\n",
    "cmap[:, 3] = np.linspace(0, 1, 256)\n",
    "cmap[:, 0]= np.linspace(0, 0, 256)\n",
    "cmap[:, 1]= np.linspace(0, 0, 256)\n",
    "cmap[:, 2]= np.linspace(0, 0, 256)\n",
    "#Intensity colours\n",
    "imap = matplotlib.colors.ListedColormap(cmap)\n",
    "#Phase colours\n",
    "pmap= cc.m_CET_C6"
   ]
  },
  {
   "cell_type": "code",
   "execution_count": null,
   "metadata": {},
   "outputs": [],
   "source": [
    "#Generate Phase colormap\n",
    "import pylab as pl\n",
    "import numpy as np\n",
    "\n",
    "a = np.array([[0,1]])\n",
    "pl.figure(figsize=(9, 1.5))\n",
    "img = pl.imshow(a, cmap=pmap)\n",
    "pl.gca().set_visible(False)\n",
    "cax = pl.axes([0.1, 0.1, 1.2, 2])\n",
    "pl.colorbar(orientation=\"horizontal\", cax=cax, ticks=[])\n",
    "pl.savefig(\"colorbar.png\")"
   ]
  },
  {
   "cell_type": "code",
   "execution_count": null,
   "metadata": {},
   "outputs": [],
   "source": [
    "#Constants\n",
    "pi=3.141592653\n",
    "wavelength = 785*nm\n",
    "#Beam Params\n",
    "size = 30*cm\n",
    "w0=5*cm\n",
    "N = 1024\n",
    "#Propagataion Params\n",
    "z=5400\n",
    "r0=0.1\n",
    "scint=0.5"
   ]
  },
  {
   "cell_type": "code",
   "execution_count": 307,
   "metadata": {},
   "outputs": [],
   "source": [
    "##These are custom functions for plotting the LightPipes beams with Phase and Intensity on the same plot, alternatively just the Intensity or just the Phase.\n",
    "\n",
    "def plotbeam(F):\n",
    "    I=1-Intensity(1,F)\n",
    "    Phi=np.mod(Phase(F),2*pi)\n",
    "\n",
    "    ##aperature = plt.Circle((N/2-1, N/2), 30*cm*N/(2*size), color='w', fill=False)\n",
    "    fig=plt.figure(figsize=(10,10))\n",
    "    ax1 = fig.add_subplot(121)\n",
    "    ax1.imshow(Phi,cmap=pmap,vmin=0,vmax=2*pi,interpolation='None')\n",
    "    ax1.imshow(I,cmap=imap,vmin=np.min(I),vmax=np.max(I))\n",
    "    ##ax1.add_patch(aperature)\n",
    "        \n",
    "    plt.axis('off')\n",
    "    plt.tight_layout()\n",
    "\n",
    "def plotint(F,norm=1):\n",
    "    F=Normal(F)\n",
    "    if norm==1:\n",
    "        I=Intensity(1,F)\n",
    "    else:\n",
    "        I=Intensity(0,F)\n",
    "\n",
    "    ##aperature = plt.Circle((N/2-1, N/2), 30*cm*N/(2*size), color='w', fill=False)\n",
    "    fig=plt.figure(figsize=(5,5))\n",
    "    ax1 = fig.add_subplot(121)\n",
    "    ax1.imshow(I,cmap='grey',vmin=0,vmax=norm)\n",
    "    ##ax1.add_patch(aperature)\n",
    "        \n",
    "    plt.axis('off')\n",
    "    plt.tight_layout()\n",
    "    return I\n",
    "\n",
    "def plotphase(F):\n",
    "    Phi=np.mod(Phase(F),2*pi)\n",
    "\n",
    "    ##aperature = plt.Circle((N/2-1, N/2), 30*cm*N/(2*size), color='w', fill=False)\n",
    "    fig=plt.figure(figsize=(5,5))\n",
    "    ax1 = fig.add_subplot(121)\n",
    "    ax1.imshow(Phi,cmap=pmap,vmin=0,vmax=2*pi,interpolation='None')\n",
    "    ##ax1.add_patch(aperature)\n",
    "        \n",
    "    plt.axis('off')\n",
    "\n",
    "    plt.tight_layout()\n",
    "\n",
    "def savebeam(F,name='unnamed',norm=1):\n",
    "    F=Normal(F)\n",
    "    if norm==1:\n",
    "        I=1-Intensity(1,F)\n",
    "    else:\n",
    "        I=norm-Intensity(0,F)\n",
    "    Phi=np.mod(Phase(F),2*pi)\n",
    "\n",
    "    fig=plt.figure(figsize=(10,10))\n",
    "    ax1 = fig.add_subplot()\n",
    "    ax1.imshow(Phi,cmap=pmap,vmin=0,vmax=2*pi,interpolation='None')\n",
    "    ax1.imshow(I,cmap=imap,vmin=0,vmax=norm)\n",
    "    ax1.axis(\"off\")\n",
    "        \n",
    "    plt.savefig(name+'.png', bbox_inches=0)\n",
    "    plt.close(\"all\")"
   ]
  },
  {
   "cell_type": "code",
   "execution_count": 302,
   "metadata": {},
   "outputs": [],
   "source": [
    "#This is a function for making OAM beams, \n",
    "\n",
    "def OAM(state: int=0 ,phase=0):\n",
    "    F=Begin(size,wavelength,N)\n",
    "\n",
    "    if(state==0):\n",
    "        F=GaussBeam(F, w0)\n",
    "    else:\n",
    "        F=GaussBeam(F, w0, doughnut=True, n=0,m=state)\n",
    "\n",
    "    F=SubPhase(F,Phase(F)+phase)\n",
    "\n",
    "    return F"
   ]
  },
  {
   "cell_type": "code",
   "execution_count": null,
   "metadata": {},
   "outputs": [],
   "source": [
    "#These are some functions for making fancy beams, for now, lets not think about them but lets keep them.\n",
    "\n",
    "def MUBphases(d,MUB):\n",
    "    phi,p=[],[]\n",
    "    for state in range(d):\n",
    "        for j in range(d):\n",
    "            p.append(((2*np.pi/d)*(MUB*(j**2)+state*j)))\n",
    "        phi.append(p)\n",
    "        p=[]\n",
    "    return phi\n",
    "\n",
    "# Generate mode list and mix many beams\n",
    "def ell(d):\n",
    "    if d%2 == 0:\n",
    "        l=np.linspace(-np.floor(d/2),np.floor(d/2),d+1,dtype=int)\n",
    "        l=l[l != 0]\n",
    "    else:\n",
    "        l=np.linspace(-np.floor(d/2),np.floor(d/2),d,dtype=int)\n",
    "    return l\n",
    "\n",
    "def MixManyBeams(beams):\n",
    "    if len(beams) > 1:\n",
    "        beams[1]=BeamMix(beams[0],beams[1])\n",
    "        beams.pop(0)\n",
    "        MixManyBeams(beams)\n",
    "    return beams[0]\n",
    "\n",
    "def ANG(d,state):\n",
    "    intensityNorm=[1,1,187.3568368182197,302.7415771427128,281.4774347094998,342.95046333063704,1,330.2491174614896,276.25225696328897]\n",
    "    Q,p=[],[]\n",
    "    l=ell(d)\n",
    "    \n",
    "    for i in range(d):\n",
    "        p.append((2*np.pi/d)*i*state)\n",
    "\n",
    "    for i in range(d):\n",
    "        Q.append(OAM(l[i],p[i]))\n",
    "\n",
    "    F=MixManyBeams(Q)\n",
    "    return [F,intensityNorm[d]]\n",
    "\n",
    "#THIS IS BROKEN, DO NOT TRY\n",
    "def ArbMUB(d,MUB,state):\n",
    "    intensityNorm=[1,1,187.3568368182197,302.7415771427128,281.4774347094998,342.95046333063704,1,330.2491174614896,276.25225696328897]\n",
    "    Q,p=[],[]\n",
    "    l=ell(d)\n",
    "    if d==2:\n",
    "        p=[[[0,0],[0,np.pi]],[[0,np.pi/2],[0,-np.pi/2]]][MUB][state]\n",
    "    \n",
    "    elif d==4:\n",
    "        p=[[[0,0,0,0],[0,np.pi,np.pi,0],[0,0,np.pi,np.pi],[0,np.pi,0,np.pi]],[[0,np.pi/2,np.pi/2,np.pi],[0,-np.pi/2,-np.pi/2,np.pi],[0,np.pi/2,-np.pi/2,0],[0,-np.pi/2,np.pi/2,0]],[[0,0,-np.pi/2,np.pi/2],[0,np.pi,np.pi/2,np.pi/2],[0,0,np.pi/2,-np.pi/2],[0,np.pi,-np.pi/2,-np.pi/2]],[[0,-np.pi/2,0,np.pi/2],[0,np.pi/2,np.pi,np.pi/2],[0,np.pi/2,0,-np.pi/2],[0,-np.pi/2,np.pi,-np.pi/2]]][MUB][state]\n",
    "\n",
    "    elif d==8:\n",
    "        p=[[[0,0,0,0,0,0,0,0],[0,1.570796327,1.570796327,3.141592654,1.570796327,3.141592654,3.141592654,-1.570796327],[0,1.570796327,0,1.570796327,0,-1.570796327,3.141592654,1.570796327],[0,0,1.570796327,1.570796327,1.570796327,-1.570796327,0,3.141592654],[0,0,1.570796327,-1.570796327,0,3.141592654,1.570796327,1.570796327],[0,1.570796327,0,-1.570796327,1.570796327,0,1.570796327,3.141592654],[0,1.570796327,1.570796327,0,0,1.570796327,-1.570796327,3.141592654],[0,0,0,3.141592654,1.570796327,1.570796327,-1.570796327,1.570796327]],[[0,3.141592654,0,3.141592654,0,3.141592654,0,3.141592654],[0,-1.570796327,1.570796327,0,1.570796327,0,3.141592654,1.570796327],[0,-1.570796327,0,-1.570796327,0,1.570796327,3.141592654,-1.570796327],[0,3.141592654,1.570796327,-1.570796327,1.570796327,1.570796327,0,0],[0,3.141592654,1.570796327,1.570796327,0,0,1.570796327,-1.570796327],[0,-1.570796327,0,1.570796327,1.570796327,3.141592654,1.570796327,0],[0,-1.570796327,1.570796327,3.141592654,0,-1.570796327,-1.570796327,0],[0,3.141592654,0,0,1.570796327,-1.570796327,-1.570796327,-1.570796327]],[[0,0,3.141592654,3.141592654,0,0,3.141592654,3.141592654],[0,1.570796327,-1.570796327,0,1.570796327,3.141592654,0,1.570796327],[0,1.570796327,3.141592654,-1.570796327,0,-1.570796327,0,-1.570796327],[0,0,-1.570796327,-1.570796327,1.570796327,-1.570796327,3.141592654,0],[0,0,-1.570796327,1.570796327,0,3.141592654,-1.570796327,-1.570796327],[0,1.570796327,3.141592654,1.570796327,1.570796327,0,-1.570796327,0],[0,1.570796327,-1.570796327,3.141592654,0,1.570796327,1.570796327,0],[0,0,3.141592654,0,1.570796327,1.570796327,1.570796327,-1.570796327]],[[0,3.141592654,3.141592654,0,0,3.141592654,3.141592654,0],[0,-1.570796327,-1.570796327,3.141592654,1.570796327,0,0,-1.570796327],[0,-1.570796327,3.141592654,1.570796327,0,1.570796327,0,1.570796327],[0,3.141592654,-1.570796327,1.570796327,1.570796327,1.570796327,3.141592654,3.141592654],[0,3.141592654,-1.570796327,-1.570796327,0,0,-1.570796327,1.570796327],[0,-1.570796327,3.141592654,-1.570796327,1.570796327,3.141592654,-1.570796327,3.141592654],[0,-1.570796327,-1.570796327,0,0,-1.570796327,1.570796327,3.141592654],[0,3.141592654,3.141592654,3.141592654,1.570796327,-1.570796327,1.570796327,1.570796327]],[[0,0,0,0,3.141592654,3.141592654,3.141592654,3.141592654],[0,1.570796327,1.570796327,3.141592654,-1.570796327,0,0,1.570796327],[0,1.570796327,0,1.570796327,3.141592654,1.570796327,0,-1.570796327],[0,0,1.570796327,1.570796327,-1.570796327,1.570796327,3.141592654,0],[0,0,1.570796327,-1.570796327,3.141592654,0,-1.570796327,-1.570796327],[0,1.570796327,0,-1.570796327,-1.570796327,3.141592654,-1.570796327,0],[0,1.570796327,1.570796327,0,3.141592654,-1.570796327,1.570796327,0],[0,0,0,3.141592654,-1.570796327,-1.570796327,1.570796327,-1.570796327]],[[0,3.141592654,0,3.141592654,3.141592654,0,3.141592654,0],[0,-1.570796327,1.570796327,0,-1.570796327,3.141592654,0,-1.570796327],[0,-1.570796327,0,-1.570796327,3.141592654,-1.570796327,0,1.570796327],[0,3.141592654,1.570796327,-1.570796327,-1.570796327,-1.570796327,3.141592654,3.141592654],[0,3.141592654,1.570796327,1.570796327,3.141592654,3.141592654,-1.570796327,1.570796327],[0,-1.570796327,0,1.570796327,-1.570796327,0,-1.570796327,3.141592654],[0,-1.570796327,1.570796327,3.141592654,3.141592654,1.570796327,1.570796327,3.141592654],[0,3.141592654,0,0,-1.570796327,1.570796327,1.570796327,1.570796327]],[[0,0,3.141592654,3.141592654,3.141592654,3.141592654,0,0],[0,1.570796327,-1.570796327,0,-1.570796327,0,3.141592654,-1.570796327],[0,1.570796327,3.141592654,-1.570796327,3.141592654,1.570796327,3.141592654,1.570796327],[0,0,-1.570796327,-1.570796327,-1.570796327,1.570796327,0,3.141592654],[0,0,-1.570796327,1.570796327,3.141592654,0,1.570796327,1.570796327],[0,1.570796327,3.141592654,1.570796327,-1.570796327,3.141592654,1.570796327,3.141592654],[0,1.570796327,-1.570796327,3.141592654,3.141592654,-1.570796327,-1.570796327,3.141592654],[0,0,3.141592654,0,-1.570796327,-1.570796327,-1.570796327,1.570796327]],[[0,3.141592654,3.141592654,0,3.141592654,0,0,3.141592654],[0,-1.570796327,-1.570796327,3.141592654,-1.570796327,3.141592654,3.141592654,1.570796327],[0,-1.570796327,3.141592654,1.570796327,3.141592654,-1.570796327,3.141592654,-1.570796327],[0,3.141592654,-1.570796327,1.570796327,-1.570796327,-1.570796327,0,0],[0,3.141592654,-1.570796327,-1.570796327,3.141592654,3.141592654,1.570796327,-1.570796327],[0,-1.570796327,3.141592654,-1.570796327,-1.570796327,0,1.570796327,0],[0,-1.570796327,-1.570796327,0,3.141592654,1.570796327,-1.570796327,0],[0,3.141592654,3.141592654,3.141592654,-1.570796327,1.570796327,-1.570796327,-1.570796327]]][MUB][state]\n",
    "\n",
    "    else:\n",
    "        for j in range(d):\n",
    "            p.append(((2*np.pi/d)*(MUB*(j**2)+state*j)))\n",
    "            \n",
    "    for i in range(d):\n",
    "        Q.append(OAM(l[i],p[i]))\n",
    "\n",
    "    F=MixManyBeams(Q)\n",
    "    \n",
    "    return [F,intensityNorm[d]]\n",
    "    "
   ]
  },
  {
   "cell_type": "code",
   "execution_count": null,
   "metadata": {},
   "outputs": [],
   "source": [
    "#Check maximum intensity in the sets of mubs for intensity normalization. Must be redone when changing resolution\n",
    "l,L=[],[]\n",
    "for d in [2,3,4,5,7,8]:\n",
    "    for i in range(d):\n",
    "        el=ell(d)\n",
    "        l.append(np.max(Intensity(0,Normal(OAM(el[i])[0]))))\n",
    "    L.append(np.max(l))\n",
    "print(L)"
   ]
  },
  {
   "cell_type": "code",
   "execution_count": 308,
   "metadata": {},
   "outputs": [
    {
     "name": "stdout",
     "output_type": "stream",
     "text": [
      "9 -4\n",
      "9 -3\n",
      "9 -2\n",
      "9 -1\n",
      "9 0\n",
      "9 1\n",
      "9 2\n",
      "9 3\n",
      "9 4\n"
     ]
    }
   ],
   "source": [
    "#Generate and Save plots of all OAM Modes\n",
    "d=9\n",
    "l=ell(d)\n",
    "for mode in range(d):\n",
    "    beam=OAM(l[mode]) \n",
    "    savebeam(beam,'OAMl'+str(l[mode]))\n",
    "    print(d,l[mode])"
   ]
  },
  {
   "cell_type": "code",
   "execution_count": null,
   "metadata": {},
   "outputs": [],
   "source": [
    "#Generate and Save plots of all ANG Modes\n",
    "for d in [2,3,4,5,7,8]:\n",
    "    for mode in range(d):\n",
    "        beam=ANG(d,mode) \n",
    "        savebeam(beam[0],'ANG'+str(d)+'Phi'+str(mode),beam[1])\n",
    "        print(d,mode)"
   ]
  },
  {
   "cell_type": "code",
   "execution_count": null,
   "metadata": {},
   "outputs": [],
   "source": [
    "#Generate and Save plots of all MUB Modes\n",
    "for d in reversed([2,3,4,5,7,8]):\n",
    "    for MUB,mode in itertools.product(reversed(range(d)),reversed(range(d))):\n",
    "        beam=ArbMUB(d,MUB,mode) \n",
    "        savebeam(beam[0],str(d)+str(MUB)+str(mode),beam[1])\n",
    "        print(d,MUB,mode)"
   ]
  },
  {
   "cell_type": "code",
   "execution_count": null,
   "metadata": {},
   "outputs": [],
   "source": [
    "plt.close(\"all\")"
   ]
  },
  {
   "cell_type": "markdown",
   "metadata": {},
   "source": [
    "Below here is Attempts to begin doing simulations"
   ]
  },
  {
   "cell_type": "code",
   "execution_count": null,
   "metadata": {},
   "outputs": [],
   "source": [
    "#Constants\n",
    "pi=3.141592653\n",
    "\n",
    "#Settings for the Beam\n",
    "\n",
    "#Let us go with 785 nm for the wavelength\n",
    "wavelength = 785*nm\n",
    "\n",
    "# This is the size of the window we are generating, Our reciever is 30 cm diameter so I figured 30 cm is good\n",
    "size = 30*cm\n",
    "\n",
    "#This is the beam waist, I do not know if this is radius or if this is diameter, this would be good to check!\n",
    "#I am suspecting it is radius for some reason?\n",
    "w0=3*cm\n",
    "\n",
    "#PropogationDistance\n",
    "z=5400\n",
    "\n",
    "#Resolution, keep low for doing rough work, but when we make nice plots we need to crank it up\n",
    "N = 250\n",
    "\n",
    "#This will be the average Fried parameter that we want to simulate\n",
    "r0=0.1\n",
    "#This will be the \"Scintillation index\" Sigma_Chi^2 in the textbook I sent over. I don't know what normal values for this are.\n",
    "scint=0.5"
   ]
  },
  {
   "cell_type": "code",
   "execution_count": null,
   "metadata": {},
   "outputs": [],
   "source": [
    "F=Begin(size,wavelength,N)\n",
    "F=GaussBeam(F, w0, LG=True, n=0,m=2)\n",
    "\n",
    "plotbeam(F)"
   ]
  },
  {
   "cell_type": "code",
   "execution_count": null,
   "metadata": {},
   "outputs": [],
   "source": [
    "l=2\n",
    "\n",
    "F=OAM(l)\n",
    "plotbeam(F)\n",
    "F=OAM(-l)\n",
    "plotbeam(F)\n",
    "F=BeamMix(OAM(l),OAM(-l))\n",
    "plotbeam(F)"
   ]
  },
  {
   "cell_type": "code",
   "execution_count": null,
   "metadata": {},
   "outputs": [],
   "source": [
    "#### My understanding is that \"Donut\" is just the way that the Lightpipes refers to beams with OAM.\n",
    "F=OAM(0)\n",
    "plotint(F)\n",
    "plotphase(F)"
   ]
  },
  {
   "cell_type": "code",
   "execution_count": null,
   "metadata": {},
   "outputs": [],
   "source": [
    "# This is an example of generating a single turbulence screen with the AOtools library.  I do not claim to fully understand what the last two inputs are,\n",
    "# I am pretty sure I got those values from the internet though and they should be good.\n",
    "\n",
    "phase=aotools.turbulence.phasescreen.ft_sh_phase_screen(r0,N,size/N,100,0.001)"
   ]
  },
  {
   "cell_type": "code",
   "execution_count": null,
   "metadata": {},
   "outputs": [],
   "source": [
    "#I don't know if this one, or the next one is better. There is something interesting going on where the boundaries are\n",
    "# reflective, so in propagation stuff looks funny\n",
    "beam=OAM(0)\n",
    "for i in range(10):\n",
    "    phase=aotools.turbulence.phasescreen.ft_sh_phase_screen(10000,N,size/N,100,0.001)\n",
    "    beam=SubPhase(beam,Phase(beam)+phase)\n",
    "    beam=Fresnel(beam,500)\n",
    "    plotphase(beam)\n",
    "    plotint(beam)\n",
    "plotbeam(beam)"
   ]
  },
  {
   "cell_type": "code",
   "execution_count": null,
   "metadata": {},
   "outputs": [],
   "source": [
    "F=OAM(0)\n",
    "for i in range(n):\n",
    "    phase=aotools.turbulence.phasescreen.ft_sh_phase_screen(r0,N,size/N,100,1*mm)\n",
    "\n",
    "    fig=plt.figure(figsize=(5,5))\n",
    "    ax1 = fig.add_subplot(121)\n",
    "    ax1.imshow(np.mod(phase+np.min(phase),2*pi),cmap=pmap,vmin=0,vmax=2*pi,interpolation='None')\n",
    "    ##ax1.add_patch(aperature)\n",
    "        \n",
    "    plt.axis('off')\n",
    "    print(np.max(Intensity(F)))\n",
    "    F=SubPhase(F,Phase(F)+phase)\n",
    "    F=Fresnel(F,z/n)\n",
    "\n",
    "    plotbeam(F)\n",
    "\n",
    "\n"
   ]
  },
  {
   "cell_type": "code",
   "execution_count": null,
   "metadata": {},
   "outputs": [],
   "source": []
  },
  {
   "cell_type": "code",
   "execution_count": null,
   "metadata": {},
   "outputs": [],
   "source": []
  },
  {
   "cell_type": "code",
   "execution_count": null,
   "metadata": {},
   "outputs": [],
   "source": []
  },
  {
   "cell_type": "code",
   "execution_count": null,
   "metadata": {},
   "outputs": [],
   "source": []
  },
  {
   "cell_type": "code",
   "execution_count": null,
   "metadata": {},
   "outputs": [],
   "source": []
  }
 ],
 "metadata": {
  "kernelspec": {
   "display_name": "Python 3",
   "language": "python",
   "name": "python3"
  },
  "language_info": {
   "codemirror_mode": {
    "name": "ipython",
    "version": 3
   },
   "file_extension": ".py",
   "mimetype": "text/x-python",
   "name": "python",
   "nbconvert_exporter": "python",
   "pygments_lexer": "ipython3",
   "version": "3.12.3"
  }
 },
 "nbformat": 4,
 "nbformat_minor": 2
}
