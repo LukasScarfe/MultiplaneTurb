{
 "cells": [
  {
   "cell_type": "code",
   "execution_count": 279,
   "metadata": {},
   "outputs": [],
   "source": [
    "##ALL OF THE IMPORTS AND SUCH\n",
    "\n",
    "from LightPipes import *\n",
    "import matplotlib.pyplot as plt\n",
    "import matplotlib.colors\n",
    "import matplotlib.cm\n",
    "import math\n",
    "from numpy import genfromtxt\n",
    "import colorcet as cc\n",
    "import random\n",
    "import aotools\n",
    "import itertools\n",
    "\n",
    "import numpy as np\n",
    "import scipy as sp\n",
    "\n",
    "plt.style.use('dark_background')"
   ]
  },
  {
   "cell_type": "code",
   "execution_count": 280,
   "metadata": {},
   "outputs": [],
   "source": [
    "#Generate Colormap Intensity\n",
    "cmap = np.zeros([256, 4])\n",
    "cmap[:, 3] = np.linspace(0, 1, 256)\n",
    "cmap[:, 0]= np.linspace(0, 0, 256)\n",
    "cmap[:, 1]= np.linspace(0, 0, 256)\n",
    "cmap[:, 2]= np.linspace(0, 0, 256)\n",
    "#Intensity colours\n",
    "imap = matplotlib.colors.ListedColormap(cmap)\n",
    "#Phase colours\n",
    "pmap= cc.m_CET_C6"
   ]
  },
  {
   "cell_type": "code",
   "execution_count": null,
   "metadata": {},
   "outputs": [],
   "source": [
    "#Generate Phase colormap\n",
    "import pylab as pl\n",
    "import numpy as np\n",
    "\n",
    "a = np.array([[0,1]])\n",
    "pl.figure(figsize=(9, 1.5))\n",
    "img = pl.imshow(a, cmap=pmap)\n",
    "pl.gca().set_visible(False)\n",
    "cax = pl.axes([0.1, 0.1, 1.2, 2])\n",
    "pl.colorbar(orientation=\"horizontal\", cax=cax, ticks=[])\n",
    "pl.savefig(\"colorbar.png\")"
   ]
  },
  {
   "cell_type": "code",
   "execution_count": 342,
   "metadata": {},
   "outputs": [],
   "source": [
    "#Constants\n",
    "pi=3.141592653\n",
    "wavelength = 785*nm\n",
    "#Beam Params\n",
    "size = 30*cm\n",
    "w0=5*cm\n",
    "N =256\n",
    "#Propagataion Params\n",
    "z=5400\n",
    "r0=0.1\n",
    "scint=0.5"
   ]
  },
  {
   "cell_type": "code",
   "execution_count": 348,
   "metadata": {},
   "outputs": [],
   "source": [
    "##These are custom functions for plotting the LightPipes beams with Phase and Intensity on the same plot, alternatively just the Intensity or just the Phase.\n",
    "\n",
    "def plotbeam(F):\n",
    "    I=1-Intensity(1,F)\n",
    "    Phi=np.mod(Phase(F),2*pi)\n",
    "\n",
    "    ##aperature = plt.Circle((N/2-1, N/2), 30*cm*N/(2*size), color='w', fill=False)\n",
    "    fig=plt.figure(figsize=(5,5))\n",
    "    ax1 = fig.add_subplot(121)\n",
    "    ax1.imshow(Phi,cmap=pmap,vmin=0,vmax=2*pi,interpolation='None')\n",
    "    ax1.imshow(I,cmap=imap,vmin=np.min(I),vmax=np.max(I))\n",
    "    ##ax1.add_patch(aperature)\n",
    "        \n",
    "    plt.axis('off')\n",
    "    plt.tight_layout()\n",
    "\n",
    "def plotint(F,norm=1):\n",
    "    F=Normal(F)\n",
    "    if norm==1:\n",
    "        I=Intensity(1,F)\n",
    "    else:\n",
    "        I=Intensity(0,F)\n",
    "\n",
    "    ##aperature = plt.Circle((N/2-1, N/2), 30*cm*N/(2*size), color='w', fill=False)\n",
    "    fig=plt.figure(figsize=(5,5))\n",
    "    ax1 = fig.add_subplot(121)\n",
    "    ax1.imshow(I,cmap='grey',vmin=0,vmax=norm)\n",
    "    ##ax1.add_patch(aperature)\n",
    "        \n",
    "    plt.axis('off')\n",
    "    plt.tight_layout()\n",
    "    return I\n",
    "\n",
    "def plotphase(F):\n",
    "    Phi=np.mod(Phase(F),2*pi)\n",
    "\n",
    "    ##aperature = plt.Circle((N/2-1, N/2), 30*cm*N/(2*size), color='w', fill=False)\n",
    "    fig=plt.figure(figsize=(5,5))\n",
    "    ax1 = fig.add_subplot(121)\n",
    "    ax1.imshow(Phi,cmap=pmap,vmin=0,vmax=2*pi,interpolation='None')\n",
    "    ##ax1.add_patch(aperature)\n",
    "        \n",
    "    plt.axis('off')\n",
    "\n",
    "    plt.tight_layout()\n",
    "\n",
    "def savebeam(F,name='unnamed',norm=1):\n",
    "    F=Normal(F)\n",
    "    if norm==1:\n",
    "        I=1-Intensity(1,F)\n",
    "    else:\n",
    "        I=norm-Intensity(0,F)\n",
    "    Phi=np.mod(Phase(F),2*pi)\n",
    "\n",
    "    fig=plt.figure(figsize=(5,5))\n",
    "    ax1 = fig.add_subplot()\n",
    "    ax1.imshow(Phi,cmap=pmap,vmin=0,vmax=2*pi,interpolation='None')\n",
    "    ax1.imshow(I,cmap=imap,vmin=0,vmax=norm)\n",
    "    ax1.axis(\"off\")\n",
    "        \n",
    "    plt.savefig(name+'.png', bbox_inches=0)\n",
    "    plt.close(\"all\")"
   ]
  },
  {
   "cell_type": "code",
   "execution_count": 284,
   "metadata": {},
   "outputs": [],
   "source": [
    "#This is a function for making OAM beams, \n",
    "\n",
    "def OAM(state: int=0 ,phase=0):\n",
    "    F=Begin(size,wavelength,N)\n",
    "\n",
    "    if(state==0):\n",
    "        F=GaussBeam(F, w0)\n",
    "    else:\n",
    "        F=GaussBeam(F, w0, doughnut=True, n=0,m=state)\n",
    "\n",
    "    F=SubPhase(F,Phase(F)+phase)\n",
    "\n",
    "    return F"
   ]
  },
  {
   "cell_type": "code",
   "execution_count": 336,
   "metadata": {},
   "outputs": [],
   "source": [
    "#These are some functions for making fancy beams, for now, lets not think about them but lets keep them.\n",
    "\n",
    "def MUBphases(d,MUB):\n",
    "    phi,p=[],[]\n",
    "    for state in range(d):\n",
    "        for j in range(d):\n",
    "            p.append(((2*np.pi/d)*(MUB*(j**2)+state*j)))\n",
    "        phi.append(p)\n",
    "        p=[]\n",
    "    return phi\n",
    "\n",
    "# Generate mode list\n",
    "def ell(d):\n",
    "    if d%2 == 0:\n",
    "        l=np.linspace(-np.floor(d/2),np.floor(d/2),d+1,dtype=int)\n",
    "        l=l[l != 0]\n",
    "    else:\n",
    "        l=np.linspace(-np.floor(d/2),np.floor(d/2),d,dtype=int)\n",
    "    return l\n",
    "\n",
    "#Mix many beams\n",
    "def MixManyBeams(beams):\n",
    "    if len(beams) > 1:\n",
    "        beams[1]=BeamMix(beams[0],beams[1])\n",
    "        beams.pop(0)\n",
    "        MixManyBeams(beams)\n",
    "    return beams[0]\n",
    "\n",
    "#Arbitrary ANG in dimension d\n",
    "def ANG(d,state):\n",
    "    intensityNorm=[1,1,187.3568368182197,302.7415771427128,281.4774347094998,342.95046333063704,1,330.2491174614896,276.25225696328897]\n",
    "    Q,p=[],[]\n",
    "    l=ell(d)\n",
    "    \n",
    "    for i in range(d):\n",
    "        p.append((2*np.pi/d)*i*state)\n",
    "\n",
    "    for i in range(d):\n",
    "        Q.append(OAM(l[i],p[i]))\n",
    "\n",
    "    F=MixManyBeams(Q)\n",
    "    return [F,intensityNorm[d]]\n",
    "\n",
    "#Arbitrary MUB in d dimensions {2,3,4,5,7,8}\n",
    "def ArbMUB(d,MUB,state):\n",
    "    intensityNorm=[1,1,187.3568368182197,302.7415771427128,281.4774347094998,342.95046333063704,1,330.2491174614896,276.25225696328897]\n",
    "    Q,p=[],[]\n",
    "    l=ell(d)\n",
    "    if d==2:\n",
    "        p=[[[0,0],[0,np.pi]],[[0,np.pi/2],[0,3*np.pi/2]]][MUB][state]\n",
    "    \n",
    "    elif d==4:\n",
    "        p=[[[0,0,0,0],[0,np.pi,np.pi,0],[0,0,np.pi,np.pi],[0,np.pi,0,np.pi]],[[0,np.pi/2,np.pi/2,np.pi],[0,3*np.pi/2,3*np.pi/2,np.pi],[0,np.pi/2,3*np.pi/2,0],[0,3*np.pi/2,np.pi/2,0]],[[0,0,3*np.pi/2,np.pi/2],[0,np.pi,np.pi/2,np.pi/2],[0,0,np.pi/2,3*np.pi/2],[0,np.pi,3*np.pi/2,3*np.pi/2]],[[0,3*np.pi/2,0,np.pi/2],[0,np.pi/2,np.pi,np.pi/2],[0,np.pi/2,0,3*np.pi/2],[0,3*np.pi/2,np.pi,3*np.pi/2]]][MUB][state]\n",
    "\n",
    "    elif d==8:\n",
    "        p=[[[0,0,0,0,0,0,0,0],[0,1.570796327,1.570796327,3.141592654,1.570796327,3.141592654,3.141592654,-1.570796327],[0,1.570796327,0,1.570796327,0,-1.570796327,3.141592654,1.570796327],[0,0,1.570796327,1.570796327,1.570796327,-1.570796327,0,3.141592654],[0,0,1.570796327,-1.570796327,0,3.141592654,1.570796327,1.570796327],[0,1.570796327,0,-1.570796327,1.570796327,0,1.570796327,3.141592654],[0,1.570796327,1.570796327,0,0,1.570796327,-1.570796327,3.141592654],[0,0,0,3.141592654,1.570796327,1.570796327,-1.570796327,1.570796327]],[[0,3.141592654,0,3.141592654,0,3.141592654,0,3.141592654],[0,-1.570796327,1.570796327,0,1.570796327,0,3.141592654,1.570796327],[0,-1.570796327,0,-1.570796327,0,1.570796327,3.141592654,-1.570796327],[0,3.141592654,1.570796327,-1.570796327,1.570796327,1.570796327,0,0],[0,3.141592654,1.570796327,1.570796327,0,0,1.570796327,-1.570796327],[0,-1.570796327,0,1.570796327,1.570796327,3.141592654,1.570796327,0],[0,-1.570796327,1.570796327,3.141592654,0,-1.570796327,-1.570796327,0],[0,3.141592654,0,0,1.570796327,-1.570796327,-1.570796327,-1.570796327]],[[0,0,3.141592654,3.141592654,0,0,3.141592654,3.141592654],[0,1.570796327,-1.570796327,0,1.570796327,3.141592654,0,1.570796327],[0,1.570796327,3.141592654,-1.570796327,0,-1.570796327,0,-1.570796327],[0,0,-1.570796327,-1.570796327,1.570796327,-1.570796327,3.141592654,0],[0,0,-1.570796327,1.570796327,0,3.141592654,-1.570796327,-1.570796327],[0,1.570796327,3.141592654,1.570796327,1.570796327,0,-1.570796327,0],[0,1.570796327,-1.570796327,3.141592654,0,1.570796327,1.570796327,0],[0,0,3.141592654,0,1.570796327,1.570796327,1.570796327,-1.570796327]],[[0,3.141592654,3.141592654,0,0,3.141592654,3.141592654,0],[0,-1.570796327,-1.570796327,3.141592654,1.570796327,0,0,-1.570796327],[0,-1.570796327,3.141592654,1.570796327,0,1.570796327,0,1.570796327],[0,3.141592654,-1.570796327,1.570796327,1.570796327,1.570796327,3.141592654,3.141592654],[0,3.141592654,-1.570796327,-1.570796327,0,0,-1.570796327,1.570796327],[0,-1.570796327,3.141592654,-1.570796327,1.570796327,3.141592654,-1.570796327,3.141592654],[0,-1.570796327,-1.570796327,0,0,-1.570796327,1.570796327,3.141592654],[0,3.141592654,3.141592654,3.141592654,1.570796327,-1.570796327,1.570796327,1.570796327]],[[0,0,0,0,3.141592654,3.141592654,3.141592654,3.141592654],[0,1.570796327,1.570796327,3.141592654,-1.570796327,0,0,1.570796327],[0,1.570796327,0,1.570796327,3.141592654,1.570796327,0,-1.570796327],[0,0,1.570796327,1.570796327,-1.570796327,1.570796327,3.141592654,0],[0,0,1.570796327,-1.570796327,3.141592654,0,-1.570796327,-1.570796327],[0,1.570796327,0,-1.570796327,-1.570796327,3.141592654,-1.570796327,0],[0,1.570796327,1.570796327,0,3.141592654,-1.570796327,1.570796327,0],[0,0,0,3.141592654,-1.570796327,-1.570796327,1.570796327,-1.570796327]],[[0,3.141592654,0,3.141592654,3.141592654,0,3.141592654,0],[0,-1.570796327,1.570796327,0,-1.570796327,3.141592654,0,-1.570796327],[0,-1.570796327,0,-1.570796327,3.141592654,-1.570796327,0,1.570796327],[0,3.141592654,1.570796327,-1.570796327,-1.570796327,-1.570796327,3.141592654,3.141592654],[0,3.141592654,1.570796327,1.570796327,3.141592654,3.141592654,-1.570796327,1.570796327],[0,-1.570796327,0,1.570796327,-1.570796327,0,-1.570796327,3.141592654],[0,-1.570796327,1.570796327,3.141592654,3.141592654,1.570796327,1.570796327,3.141592654],[0,3.141592654,0,0,-1.570796327,1.570796327,1.570796327,1.570796327]],[[0,0,3.141592654,3.141592654,3.141592654,3.141592654,0,0],[0,1.570796327,-1.570796327,0,-1.570796327,0,3.141592654,-1.570796327],[0,1.570796327,3.141592654,-1.570796327,3.141592654,1.570796327,3.141592654,1.570796327],[0,0,-1.570796327,-1.570796327,-1.570796327,1.570796327,0,3.141592654],[0,0,-1.570796327,1.570796327,3.141592654,0,1.570796327,1.570796327],[0,1.570796327,3.141592654,1.570796327,-1.570796327,3.141592654,1.570796327,3.141592654],[0,1.570796327,-1.570796327,3.141592654,3.141592654,-1.570796327,-1.570796327,3.141592654],[0,0,3.141592654,0,-1.570796327,-1.570796327,-1.570796327,1.570796327]],[[0,3.141592654,3.141592654,0,3.141592654,0,0,3.141592654],[0,-1.570796327,-1.570796327,3.141592654,-1.570796327,3.141592654,3.141592654,1.570796327],[0,-1.570796327,3.141592654,1.570796327,3.141592654,-1.570796327,3.141592654,-1.570796327],[0,3.141592654,-1.570796327,1.570796327,-1.570796327,-1.570796327,0,0],[0,3.141592654,-1.570796327,-1.570796327,3.141592654,3.141592654,1.570796327,-1.570796327],[0,-1.570796327,3.141592654,-1.570796327,-1.570796327,0,1.570796327,0],[0,-1.570796327,-1.570796327,0,3.141592654,1.570796327,-1.570796327,0],[0,3.141592654,3.141592654,3.141592654,-1.570796327,1.570796327,-1.570796327,-1.570796327]]][MUB][state]\n",
    "\n",
    "    else:\n",
    "        for j in range(d):\n",
    "            p.append(((2*np.pi/d)*(MUB*(j**2)+state*j)))\n",
    "            \n",
    "    for i in range(d):\n",
    "        Q.append(OAM(l[i],p[i]))\n",
    "\n",
    "    F=MixManyBeams(Q)\n",
    "    \n",
    "    return [F,intensityNorm[d]]\n",
    "    "
   ]
  },
  {
   "cell_type": "code",
   "execution_count": null,
   "metadata": {},
   "outputs": [],
   "source": [
    "plotbeam(OAM(-1))\n",
    "[1,0]\n",
    "plotbeam(OAM(1))\n",
    "[0,1]\n",
    "plotbeam(BeamMix(OAM(-1),OAM(1)))\n",
    "1/sqrt(2)*([1,0]+[0,1])\n",
    "plotbeam(BeamMix(OAM(-1),OAM(1,np.pi)))\n",
    "1/sqrt(2)*([1,0]-[0,1])\n",
    "plotbeam(BeamMix(OAM(-1),OAM(1,np.pi/2)))\n",
    "1/sqrt(2)*([1,0]+1j*[0,1])\n",
    "plotbeam(BeamMix(OAM(-1),OAM(1,3*np.pi/2)))\n",
    "1/sqrt(2)*([1,0]-1j*[0,1])"
   ]
  },
  {
   "cell_type": "code",
   "execution_count": null,
   "metadata": {},
   "outputs": [],
   "source": [
    "#Check maximum intensity in the sets of mubs for intensity normalization. Must be redone when changing resolution\n",
    "'''l,L=[],[]\n",
    "for d in [2,3,4,5,7,8]:\n",
    "    for i in range(d):\n",
    "        el=ell(d)\n",
    "        l.append(np.max(Intensity(0,Normal(OAM(el[i])[0]))))\n",
    "    L.append(np.max(l))\n",
    "print(L)'''"
   ]
  },
  {
   "cell_type": "code",
   "execution_count": null,
   "metadata": {},
   "outputs": [],
   "source": [
    "#Generate and Save plots of all OAM Modes\n",
    "'''d=9\n",
    "l=ell(d)\n",
    "for mode in range(d):\n",
    "    beam=OAM(l[mode]) \n",
    "    savebeam(beam,'OAMl'+str(l[mode]))\n",
    "    print(d,l[mode])'''"
   ]
  },
  {
   "cell_type": "code",
   "execution_count": null,
   "metadata": {},
   "outputs": [],
   "source": [
    "#Generate and Save plots of all ANG Modes\n",
    "'''for d in [2,3,4,5,6,7,8]:\n",
    "    for mode in range(d):\n",
    "        beam=ANG(d,mode) \n",
    "        savebeam(beam[0],'ANG'+str(d)+'Phi'+str(mode),beam[1])\n",
    "        print(d,mode)'''"
   ]
  },
  {
   "cell_type": "code",
   "execution_count": 340,
   "metadata": {},
   "outputs": [
    {
     "data": {
      "text/plain": [
       "[[0.0, 1.5707963267948966, 6.283185307179586, 14.137166941154069],\n",
       " [0.0, 3.141592653589793, 9.42477796076938, 18.84955592153876],\n",
       " [0.0, 4.71238898038469, 12.566370614359172, 23.561944901923447],\n",
       " [0.0, 6.283185307179586, 15.707963267948966, 28.274333882308138]]"
      ]
     },
     "execution_count": 340,
     "metadata": {},
     "output_type": "execute_result"
    }
   ],
   "source": [
    "MUBphases(4,1)"
   ]
  },
  {
   "cell_type": "code",
   "execution_count": 286,
   "metadata": {},
   "outputs": [],
   "source": [
    "plt.close(\"all\")"
   ]
  },
  {
   "cell_type": "code",
   "execution_count": 362,
   "metadata": {},
   "outputs": [],
   "source": [
    "# This is the attempt at doing the overlap integral \n",
    "\n",
    "def overlapInt(F,G):\n",
    "    F,G=Normal(F),Normal(G)\n",
    "    intensityArr=np.multiply(np.sqrt(Intensity(1,F)),np.sqrt(Intensity(1,G)))\n",
    "    phaseArr=np.exp(1j*(np.mod(np.pi+Phase(F,blank_eps=0.8),np.pi*2)-(np.mod(np.pi+Phase(G,blank_eps=0.8),np.pi*2))))\n",
    "    fieldArr=np.multiply(intensityArr,phaseArr)\n",
    "    \n",
    "    \"\"\"fieldArr=np.multiply(np.conjugate(G.field),F.field)\"\"\"\n",
    "    summed=np.nansum(np.nansum(fieldArr))\n",
    "    return abs(summed)\n",
    "    return(fieldArr)\n",
    "    "
   ]
  },
  {
   "cell_type": "code",
   "execution_count": 349,
   "metadata": {},
   "outputs": [
    {
     "data": {
      "image/png": "[encoded data removed]",
      "text/plain": [
       "<Figure size 500x500 with 1 Axes>"
      ]
     },
     "metadata": {},
     "output_type": "display_data"
    },
    {
     "data": {
      "image/png": "[encoded data removed]",
      "text/plain": [
       "<Figure size 500x500 with 1 Axes>"
      ]
     },
     "metadata": {},
     "output_type": "display_data"
    }
   ],
   "source": [
    "plotint(ArbMUB(3,0,1)[0])\n",
    "plotphase(ArbMUB(3,0,1)[0])"
   ]
  },
  {
   "cell_type": "code",
   "execution_count": 351,
   "metadata": {},
   "outputs": [
    {
     "data": {
      "image/png": "[encoded data removed]",
      "text/plain": [
       "<Figure size 500x500 with 1 Axes>"
      ]
     },
     "metadata": {},
     "output_type": "display_data"
    },
    {
     "data": {
      "image/png": "[encoded data removed]",
      "text/plain": [
       "<Figure size 500x500 with 1 Axes>"
      ]
     },
     "metadata": {},
     "output_type": "display_data"
    },
    {
     "data": {
      "image/png": "[encoded data removed]",
      "text/plain": [
       "<Figure size 500x500 with 1 Axes>"
      ]
     },
     "metadata": {},
     "output_type": "display_data"
    }
   ],
   "source": [
    "plotbeam(ArbMUB(5,0,1)[0])\n",
    "plotint(ArbMUB(5,0,1)[0])\n",
    "plotphase(ArbMUB(5,0,1)[0])"
   ]
  },
  {
   "cell_type": "code",
   "execution_count": null,
   "metadata": {},
   "outputs": [],
   "source": []
  },
  {
   "cell_type": "code",
   "execution_count": 371,
   "metadata": {},
   "outputs": [
    {
     "name": "stdout",
     "output_type": "stream",
     "text": [
      "187.47972980840893\n",
      "189.9879898283658\n",
      "197.40927889360844\n",
      "398.40410613837565\n",
      "197.4091678766088\n",
      "189.98794343914847\n",
      "240.02648346990694\n",
      "239.69820998940966\n",
      "232.65083344904522\n",
      "417.2004322922373\n",
      "232.6508495304737\n",
      "239.6981859489975\n",
      "50.14880758161326\n",
      "48.3849764907888\n",
      "42.17288719319712\n",
      "40.23495603754482\n",
      "42.172887520284455\n",
      "48.38497355567508\n",
      "50.14880758161329\n",
      "48.384973555675124\n",
      "42.172887520284476\n",
      "40.23495603754485\n"
     ]
    },
    {
     "ename": "KeyboardInterrupt",
     "evalue": "",
     "output_type": "error",
     "traceback": [
      "\u001b[1;31m---------------------------------------------------------------------------\u001b[0m",
      "\u001b[1;31mKeyboardInterrupt\u001b[0m                         Traceback (most recent call last)",
      "Cell \u001b[1;32mIn[371], line 5\u001b[0m\n\u001b[0;32m      3\u001b[0m \u001b[38;5;28;01mfor\u001b[39;00m j \u001b[38;5;129;01min\u001b[39;00m \u001b[38;5;28mrange\u001b[39m(d):\n\u001b[0;32m      4\u001b[0m     \u001b[38;5;28;01mfor\u001b[39;00m i \u001b[38;5;129;01min\u001b[39;00m \u001b[38;5;28mrange\u001b[39m(d):\n\u001b[1;32m----> 5\u001b[0m         test\u001b[38;5;241m=\u001b[39moverlapInt(\u001b[43mOAM\u001b[49m\u001b[43m(\u001b[49m\u001b[43ml\u001b[49m\u001b[43m[\u001b[49m\u001b[43mj\u001b[49m\u001b[43m]\u001b[49m\u001b[43m)\u001b[49m,ANG(d,i)[\u001b[38;5;241m0\u001b[39m])\n\u001b[0;32m      6\u001b[0m         \u001b[38;5;28mprint\u001b[39m(test)\n",
      "Cell \u001b[1;32mIn[284], line 9\u001b[0m, in \u001b[0;36mOAM\u001b[1;34m(state, phase)\u001b[0m\n\u001b[0;32m      7\u001b[0m     F\u001b[38;5;241m=\u001b[39mGaussBeam(F, w0)\n\u001b[0;32m      8\u001b[0m \u001b[38;5;28;01melse\u001b[39;00m:\n\u001b[1;32m----> 9\u001b[0m     F\u001b[38;5;241m=\u001b[39m\u001b[43mGaussBeam\u001b[49m\u001b[43m(\u001b[49m\u001b[43mF\u001b[49m\u001b[43m,\u001b[49m\u001b[43m \u001b[49m\u001b[43mw0\u001b[49m\u001b[43m,\u001b[49m\u001b[43m \u001b[49m\u001b[43mdoughnut\u001b[49m\u001b[38;5;241;43m=\u001b[39;49m\u001b[38;5;28;43;01mTrue\u001b[39;49;00m\u001b[43m,\u001b[49m\u001b[43m \u001b[49m\u001b[43mn\u001b[49m\u001b[38;5;241;43m=\u001b[39;49m\u001b[38;5;241;43m0\u001b[39;49m\u001b[43m,\u001b[49m\u001b[43mm\u001b[49m\u001b[38;5;241;43m=\u001b[39;49m\u001b[43mstate\u001b[49m\u001b[43m)\u001b[49m\n\u001b[0;32m     11\u001b[0m F\u001b[38;5;241m=\u001b[39mSubPhase(F,Phase(F)\u001b[38;5;241m+\u001b[39mphase)\n\u001b[0;32m     13\u001b[0m \u001b[38;5;28;01mreturn\u001b[39;00m F\n",
      "File \u001b[1;32mc:\\Users\\lukas\\AppData\\Local\\Programs\\Python\\Python312\\Lib\\site-packages\\LightPipes\\misc.py:90\u001b[0m, in \u001b[0;36mbackward_compatible.<locals>.fn_wrapper\u001b[1;34m(*args, **kwargs)\u001b[0m\n\u001b[0;32m     84\u001b[0m         \u001b[38;5;28;01melse\u001b[39;00m:\n\u001b[0;32m     85\u001b[0m             \u001b[38;5;28;01mraise\u001b[39;00m \u001b[38;5;167;01mValueError\u001b[39;00m(fn\u001b[38;5;241m.\u001b[39m\u001b[38;5;18m__name__\u001b[39m \u001b[38;5;241m+\u001b[39m \u001b[38;5;124m'\u001b[39m\u001b[38;5;124m (backward comaptibility\u001b[39m\u001b[38;5;124m'\u001b[39m\n\u001b[0;32m     86\u001b[0m                              \u001b[38;5;241m+\u001b[39m \u001b[38;5;124m'\u001b[39m\u001b[38;5;124m check): Field not first and kwargs \u001b[39m\u001b[38;5;124m'\u001b[39m\n\u001b[0;32m     87\u001b[0m                              \u001b[38;5;241m+\u001b[39m \u001b[38;5;124m'\u001b[39m\u001b[38;5;124mused, please update to new \u001b[39m\u001b[38;5;124m'\u001b[39m\n\u001b[0;32m     88\u001b[0m                              \u001b[38;5;241m+\u001b[39m \u001b[38;5;124m'\u001b[39m\u001b[38;5;124msyntax/usage.\u001b[39m\u001b[38;5;124m'\u001b[39m)\n\u001b[1;32m---> 90\u001b[0m \u001b[38;5;28;01mreturn\u001b[39;00m \u001b[43mfn\u001b[49m\u001b[43m(\u001b[49m\u001b[38;5;241;43m*\u001b[39;49m\u001b[43margs\u001b[49m\u001b[43m,\u001b[49m\u001b[43m \u001b[49m\u001b[38;5;241;43m*\u001b[39;49m\u001b[38;5;241;43m*\u001b[39;49m\u001b[43mkwargs\u001b[49m\u001b[43m)\u001b[49m\n",
      "File \u001b[1;32mc:\\Users\\lukas\\AppData\\Local\\Programs\\Python\\Python312\\Lib\\site-packages\\LightPipes\\sources.py:254\u001b[0m, in \u001b[0;36mGaussBeam\u001b[1;34m(Fin, w0, n, m, x_shift, y_shift, tx, ty, doughnut, LG)\u001b[0m\n\u001b[0;32m    252\u001b[0m     Fout \u001b[38;5;241m=\u001b[39m MultPhase(Fout, PI\u001b[38;5;241m/\u001b[39m\u001b[38;5;241m2\u001b[39m )\n\u001b[0;32m    253\u001b[0m     Fout \u001b[38;5;241m=\u001b[39m BeamMix(GaussLaguerre(Fin, w0, p\u001b[38;5;241m=\u001b[39mn, l\u001b[38;5;241m=\u001b[39mm, A\u001b[38;5;241m=\u001b[39m\u001b[38;5;241m1\u001b[39m ), Fout)\n\u001b[1;32m--> 254\u001b[0m Fout \u001b[38;5;241m=\u001b[39m \u001b[43mInterpol\u001b[49m\u001b[43m(\u001b[49m\u001b[43mFout\u001b[49m\u001b[43m,\u001b[49m\u001b[43m \u001b[49m\u001b[43mFin\u001b[49m\u001b[38;5;241;43m.\u001b[39;49m\u001b[43msiz\u001b[49m\u001b[43m,\u001b[49m\u001b[43m \u001b[49m\u001b[43mFin\u001b[49m\u001b[38;5;241;43m.\u001b[39;49m\u001b[43mN\u001b[49m\u001b[43m,\u001b[49m\u001b[43m \u001b[49m\u001b[43mx_shift\u001b[49m\u001b[43m,\u001b[49m\u001b[43m \u001b[49m\u001b[43my_shift\u001b[49m\u001b[43m,\u001b[49m\u001b[43m \u001b[49m\u001b[38;5;241;43m0\u001b[39;49m\u001b[43m,\u001b[49m\u001b[43m \u001b[49m\u001b[38;5;241;43m1\u001b[39;49m\u001b[43m \u001b[49m\u001b[43m)\u001b[49m\n\u001b[0;32m    255\u001b[0m Fout \u001b[38;5;241m=\u001b[39m Tilt(Fout, tx, ty )\n\u001b[0;32m    257\u001b[0m \u001b[38;5;28;01mif\u001b[39;00m \u001b[38;5;129;01mnot\u001b[39;00m LG \u001b[38;5;129;01mand\u001b[39;00m \u001b[38;5;129;01mnot\u001b[39;00m doughnut \u001b[38;5;129;01mand\u001b[39;00m tx \u001b[38;5;241m==\u001b[39m \u001b[38;5;241m0.0\u001b[39m \u001b[38;5;129;01mand\u001b[39;00m ty \u001b[38;5;241m==\u001b[39m \u001b[38;5;241m0.0\u001b[39m \u001b[38;5;129;01mand\u001b[39;00m x_shift \u001b[38;5;241m==\u001b[39m \u001b[38;5;241m0.0\u001b[39m \u001b[38;5;129;01mand\u001b[39;00m y_shift \u001b[38;5;241m==\u001b[39m \u001b[38;5;241m0.0\u001b[39m:\n",
      "File \u001b[1;32mc:\\Users\\lukas\\AppData\\Local\\Programs\\Python\\Python312\\Lib\\site-packages\\LightPipes\\misc.py:90\u001b[0m, in \u001b[0;36mbackward_compatible.<locals>.fn_wrapper\u001b[1;34m(*args, **kwargs)\u001b[0m\n\u001b[0;32m     84\u001b[0m         \u001b[38;5;28;01melse\u001b[39;00m:\n\u001b[0;32m     85\u001b[0m             \u001b[38;5;28;01mraise\u001b[39;00m \u001b[38;5;167;01mValueError\u001b[39;00m(fn\u001b[38;5;241m.\u001b[39m\u001b[38;5;18m__name__\u001b[39m \u001b[38;5;241m+\u001b[39m \u001b[38;5;124m'\u001b[39m\u001b[38;5;124m (backward comaptibility\u001b[39m\u001b[38;5;124m'\u001b[39m\n\u001b[0;32m     86\u001b[0m                              \u001b[38;5;241m+\u001b[39m \u001b[38;5;124m'\u001b[39m\u001b[38;5;124m check): Field not first and kwargs \u001b[39m\u001b[38;5;124m'\u001b[39m\n\u001b[0;32m     87\u001b[0m                              \u001b[38;5;241m+\u001b[39m \u001b[38;5;124m'\u001b[39m\u001b[38;5;124mused, please update to new \u001b[39m\u001b[38;5;124m'\u001b[39m\n\u001b[0;32m     88\u001b[0m                              \u001b[38;5;241m+\u001b[39m \u001b[38;5;124m'\u001b[39m\u001b[38;5;124msyntax/usage.\u001b[39m\u001b[38;5;124m'\u001b[39m)\n\u001b[1;32m---> 90\u001b[0m \u001b[38;5;28;01mreturn\u001b[39;00m \u001b[43mfn\u001b[49m\u001b[43m(\u001b[49m\u001b[38;5;241;43m*\u001b[39;49m\u001b[43margs\u001b[49m\u001b[43m,\u001b[49m\u001b[43m \u001b[49m\u001b[38;5;241;43m*\u001b[39;49m\u001b[38;5;241;43m*\u001b[39;49m\u001b[43mkwargs\u001b[49m\u001b[43m)\u001b[49m\n",
      "File \u001b[1;32mc:\\Users\\lukas\\AppData\\Local\\Programs\\Python\\Python312\\Lib\\site-packages\\LightPipes\\core.py:682\u001b[0m, in \u001b[0;36mInterpol\u001b[1;34m(Fin, new_size, new_N, x_shift, y_shift, angle, magnif)\u001b[0m\n\u001b[0;32m    680\u001b[0m \u001b[38;5;28;01melse\u001b[39;00m:\n\u001b[0;32m    681\u001b[0m     out_z \u001b[38;5;241m=\u001b[39m Inv_Squares(Xmask, Ymask, Fin\u001b[38;5;241m.\u001b[39mfield, dx_old)\n\u001b[1;32m--> 682\u001b[0m     \u001b[43mFout\u001b[49m\u001b[38;5;241;43m.\u001b[39;49m\u001b[43mfield\u001b[49m[filtmask] \u001b[38;5;241m=\u001b[39m out_z\n\u001b[0;32m    683\u001b[0m Fout\u001b[38;5;241m.\u001b[39mfield \u001b[38;5;241m/\u001b[39m\u001b[38;5;241m=\u001b[39m magnif\n\u001b[0;32m    684\u001b[0m Fout\u001b[38;5;241m.\u001b[39m_IsGauss\u001b[38;5;241m=\u001b[39m\u001b[38;5;28;01mFalse\u001b[39;00m\n",
      "File \u001b[1;32mc:\\Users\\lukas\\AppData\\Local\\Programs\\Python\\Python312\\Lib\\site-packages\\LightPipes\\field.py:149\u001b[0m, in \u001b[0;36mField.field\u001b[1;34m(self)\u001b[0m\n\u001b[0;32m    145\u001b[0m     \u001b[38;5;28;01mreturn\u001b[39;00m \u001b[38;5;28mself\u001b[39m\u001b[38;5;241m.\u001b[39msiz\u001b[38;5;241m/\u001b[39m\u001b[38;5;28mself\u001b[39m\u001b[38;5;241m.\u001b[39mN\n\u001b[0;32m    147\u001b[0m dx \u001b[38;5;241m=\u001b[39m grid_step\n\u001b[1;32m--> 149\u001b[0m \u001b[38;5;129m@property\u001b[39m\n\u001b[0;32m    150\u001b[0m \u001b[38;5;28;01mdef\u001b[39;00m \u001b[38;5;21mfield\u001b[39m(\u001b[38;5;28mself\u001b[39m):\n\u001b[0;32m    151\u001b[0m \u001b[38;5;250m    \u001b[39m\u001b[38;5;124;03m\"\"\"Get the complex E-field.\"\"\"\u001b[39;00m\n\u001b[0;32m    152\u001b[0m     \u001b[38;5;28;01mreturn\u001b[39;00m \u001b[38;5;28mself\u001b[39m\u001b[38;5;241m.\u001b[39m_field\n",
      "\u001b[1;31mKeyboardInterrupt\u001b[0m: "
     ]
    }
   ],
   "source": [
    "d=6\n",
    "l=ell(d)\n",
    "for j in range(d):\n",
    "    for i in range(d):\n",
    "        test=overlapInt(OAM(l[j]),ANG(d,i)[0])\n",
    "        print(test)"
   ]
  },
  {
   "cell_type": "code",
   "execution_count": null,
   "metadata": {},
   "outputs": [],
   "source": [
    "test=OAM(0).field\n",
    "plotbeam(OAM(0))"
   ]
  },
  {
   "cell_type": "code",
   "execution_count": 370,
   "metadata": {},
   "outputs": [
    {
     "name": "stderr",
     "output_type": "stream",
     "text": [
      "C:\\Users\\lukas\\AppData\\Local\\Temp\\ipykernel_19136\\474148907.py:9: RuntimeWarning: invalid value encountered in divide\n",
      "  overlap.append(over/sum(over))\n"
     ]
    },
    {
     "ename": "KeyboardInterrupt",
     "evalue": "",
     "output_type": "error",
     "traceback": [
      "\u001b[1;31m---------------------------------------------------------------------------\u001b[0m",
      "\u001b[1;31mKeyboardInterrupt\u001b[0m                         Traceback (most recent call last)",
      "Cell \u001b[1;32mIn[370], line 8\u001b[0m\n\u001b[0;32m      6\u001b[0m     over\u001b[38;5;241m=\u001b[39m[]\n\u001b[0;32m      7\u001b[0m     \u001b[38;5;28;01mfor\u001b[39;00m i \u001b[38;5;129;01min\u001b[39;00m \u001b[38;5;28mrange\u001b[39m(d):\n\u001b[1;32m----> 8\u001b[0m         over\u001b[38;5;241m.\u001b[39mappend(overlapInt(OAM(l[j]),\u001b[43mANG\u001b[49m\u001b[43m(\u001b[49m\u001b[43md\u001b[49m\u001b[43m,\u001b[49m\u001b[43mi\u001b[49m\u001b[43m)\u001b[49m[\u001b[38;5;241m0\u001b[39m]))\n\u001b[0;32m      9\u001b[0m     overlap\u001b[38;5;241m.\u001b[39mappend(over\u001b[38;5;241m/\u001b[39m\u001b[38;5;28msum\u001b[39m(over))\n\u001b[0;32m     10\u001b[0m \u001b[38;5;28mprint\u001b[39m(overlap)\n",
      "Cell \u001b[1;32mIn[336], line 39\u001b[0m, in \u001b[0;36mANG\u001b[1;34m(d, state)\u001b[0m\n\u001b[0;32m     36\u001b[0m     p\u001b[38;5;241m.\u001b[39mappend((\u001b[38;5;241m2\u001b[39m\u001b[38;5;241m*\u001b[39mnp\u001b[38;5;241m.\u001b[39mpi\u001b[38;5;241m/\u001b[39md)\u001b[38;5;241m*\u001b[39mi\u001b[38;5;241m*\u001b[39mstate)\n\u001b[0;32m     38\u001b[0m \u001b[38;5;28;01mfor\u001b[39;00m i \u001b[38;5;129;01min\u001b[39;00m \u001b[38;5;28mrange\u001b[39m(d):\n\u001b[1;32m---> 39\u001b[0m     Q\u001b[38;5;241m.\u001b[39mappend(\u001b[43mOAM\u001b[49m\u001b[43m(\u001b[49m\u001b[43ml\u001b[49m\u001b[43m[\u001b[49m\u001b[43mi\u001b[49m\u001b[43m]\u001b[49m\u001b[43m,\u001b[49m\u001b[43mp\u001b[49m\u001b[43m[\u001b[49m\u001b[43mi\u001b[49m\u001b[43m]\u001b[49m\u001b[43m)\u001b[49m)\n\u001b[0;32m     41\u001b[0m F\u001b[38;5;241m=\u001b[39mMixManyBeams(Q)\n\u001b[0;32m     42\u001b[0m \u001b[38;5;28;01mreturn\u001b[39;00m [F,intensityNorm[d]]\n",
      "Cell \u001b[1;32mIn[284], line 11\u001b[0m, in \u001b[0;36mOAM\u001b[1;34m(state, phase)\u001b[0m\n\u001b[0;32m      8\u001b[0m \u001b[38;5;28;01melse\u001b[39;00m:\n\u001b[0;32m      9\u001b[0m     F\u001b[38;5;241m=\u001b[39mGaussBeam(F, w0, doughnut\u001b[38;5;241m=\u001b[39m\u001b[38;5;28;01mTrue\u001b[39;00m, n\u001b[38;5;241m=\u001b[39m\u001b[38;5;241m0\u001b[39m,m\u001b[38;5;241m=\u001b[39mstate)\n\u001b[1;32m---> 11\u001b[0m F\u001b[38;5;241m=\u001b[39m\u001b[43mSubPhase\u001b[49m\u001b[43m(\u001b[49m\u001b[43mF\u001b[49m\u001b[43m,\u001b[49m\u001b[43mPhase\u001b[49m\u001b[43m(\u001b[49m\u001b[43mF\u001b[49m\u001b[43m)\u001b[49m\u001b[38;5;241;43m+\u001b[39;49m\u001b[43mphase\u001b[49m\u001b[43m)\u001b[49m\n\u001b[0;32m     13\u001b[0m \u001b[38;5;28;01mreturn\u001b[39;00m F\n",
      "File \u001b[1;32mc:\\Users\\lukas\\AppData\\Local\\Programs\\Python\\Python312\\Lib\\site-packages\\LightPipes\\misc.py:90\u001b[0m, in \u001b[0;36mbackward_compatible.<locals>.fn_wrapper\u001b[1;34m(*args, **kwargs)\u001b[0m\n\u001b[0;32m     84\u001b[0m         \u001b[38;5;28;01melse\u001b[39;00m:\n\u001b[0;32m     85\u001b[0m             \u001b[38;5;28;01mraise\u001b[39;00m \u001b[38;5;167;01mValueError\u001b[39;00m(fn\u001b[38;5;241m.\u001b[39m\u001b[38;5;18m__name__\u001b[39m \u001b[38;5;241m+\u001b[39m \u001b[38;5;124m'\u001b[39m\u001b[38;5;124m (backward comaptibility\u001b[39m\u001b[38;5;124m'\u001b[39m\n\u001b[0;32m     86\u001b[0m                              \u001b[38;5;241m+\u001b[39m \u001b[38;5;124m'\u001b[39m\u001b[38;5;124m check): Field not first and kwargs \u001b[39m\u001b[38;5;124m'\u001b[39m\n\u001b[0;32m     87\u001b[0m                              \u001b[38;5;241m+\u001b[39m \u001b[38;5;124m'\u001b[39m\u001b[38;5;124mused, please update to new \u001b[39m\u001b[38;5;124m'\u001b[39m\n\u001b[0;32m     88\u001b[0m                              \u001b[38;5;241m+\u001b[39m \u001b[38;5;124m'\u001b[39m\u001b[38;5;124msyntax/usage.\u001b[39m\u001b[38;5;124m'\u001b[39m)\n\u001b[1;32m---> 90\u001b[0m \u001b[38;5;28;01mreturn\u001b[39;00m \u001b[43mfn\u001b[49m\u001b[43m(\u001b[49m\u001b[38;5;241;43m*\u001b[39;49m\u001b[43margs\u001b[49m\u001b[43m,\u001b[49m\u001b[43m \u001b[49m\u001b[38;5;241;43m*\u001b[39;49m\u001b[38;5;241;43m*\u001b[39;49m\u001b[43mkwargs\u001b[49m\u001b[43m)\u001b[49m\n",
      "File \u001b[1;32mc:\\Users\\lukas\\AppData\\Local\\Programs\\Python\\Python312\\Lib\\site-packages\\LightPipes\\core.py:1124\u001b[0m, in \u001b[0;36mSubPhase\u001b[1;34m(Fin, Phi)\u001b[0m\n\u001b[0;32m   1122\u001b[0m         \u001b[38;5;28;01mraise\u001b[39;00m \u001b[38;5;167;01mValueError\u001b[39;00m(\u001b[38;5;124m'\u001b[39m\u001b[38;5;124mPhase map has wrong shape\u001b[39m\u001b[38;5;124m'\u001b[39m)\n\u001b[0;32m   1123\u001b[0m oldabs \u001b[38;5;241m=\u001b[39m _np\u001b[38;5;241m.\u001b[39mabs(Fout\u001b[38;5;241m.\u001b[39mfield)\n\u001b[1;32m-> 1124\u001b[0m Fout\u001b[38;5;241m.\u001b[39mfield \u001b[38;5;241m=\u001b[39m oldabs \u001b[38;5;241m*\u001b[39m \u001b[43m_np\u001b[49m\u001b[38;5;241;43m.\u001b[39;49m\u001b[43mexp\u001b[49m\u001b[43m(\u001b[49m\u001b[38;5;241;43m1\u001b[39;49m\u001b[43mj\u001b[49m\u001b[43m \u001b[49m\u001b[38;5;241;43m*\u001b[39;49m\u001b[43m \u001b[49m\u001b[43mPhi\u001b[49m\u001b[43m)\u001b[49m\n\u001b[0;32m   1125\u001b[0m Fout\u001b[38;5;241m.\u001b[39m_IsGauss\u001b[38;5;241m=\u001b[39m\u001b[38;5;28;01mFalse\u001b[39;00m\n\u001b[0;32m   1126\u001b[0m \u001b[38;5;28;01mreturn\u001b[39;00m Fout\n",
      "\u001b[1;31mKeyboardInterrupt\u001b[0m: "
     ]
    }
   ],
   "source": [
    "d=8\n",
    "l=ell(d)\n",
    "over=[]\n",
    "overlap=[]\n",
    "for j in range(d):\n",
    "    over=[]\n",
    "    for i in range(d):\n",
    "        over.append(overlapInt(OAM(l[j]),ANG(d,i)[0]))\n",
    "    overlap.append(over/sum(over))\n",
    "print(overlap)\n",
    "im = plt.imshow(overlap, interpolation='none', cmap='viridis', vmax=1, vmin=0)\n",
    "\n",
    "plt.show()"
   ]
  },
  {
   "cell_type": "markdown",
   "metadata": {},
   "source": [
    "Below here is Attempts to begin doing simulations"
   ]
  },
  {
   "cell_type": "code",
   "execution_count": null,
   "metadata": {},
   "outputs": [],
   "source": [
    "#Constants\n",
    "pi=3.141592653\n",
    "\n",
    "#Settings for the Beam\n",
    "\n",
    "#Let us go with 785 nm for the wavelength\n",
    "wavelength = 785*nm\n",
    "\n",
    "# This is the size of the window we are generating, Our reciever is 30 cm diameter so I figured 30 cm is good\n",
    "size = 30*cm\n",
    "\n",
    "#This is the beam waist, I do not know if this is radius or if this is diameter, this would be good to check!\n",
    "#I am suspecting it is radius for some reason?\n",
    "w0=3*cm\n",
    "\n",
    "#PropogationDistance\n",
    "z=5400\n",
    "\n",
    "#Resolution, keep low for doing rough work, but when we make nice plots we need to crank it up\n",
    "N = 250\n",
    "\n",
    "#This will be the average Fried parameter that we want to simulate\n",
    "r0=0.1\n",
    "#This will be the \"Scintillation index\" Sigma_Chi^2 in the textbook I sent over. I don't know what normal values for this are.\n",
    "scint=0.5"
   ]
  },
  {
   "cell_type": "code",
   "execution_count": null,
   "metadata": {},
   "outputs": [],
   "source": [
    "F=Begin(size,wavelength,N)\n",
    "F=GaussBeam(F, w0, LG=True, n=0,m=2)\n",
    "\n",
    "plotbeam(F)"
   ]
  },
  {
   "cell_type": "code",
   "execution_count": null,
   "metadata": {},
   "outputs": [],
   "source": [
    "l=2\n",
    "\n",
    "F=OAM(l)\n",
    "plotbeam(F)\n",
    "F=OAM(-l)\n",
    "plotbeam(F)\n",
    "F=BeamMix(OAM(l),OAM(-l))\n",
    "plotbeam(F)"
   ]
  },
  {
   "cell_type": "code",
   "execution_count": null,
   "metadata": {},
   "outputs": [],
   "source": [
    "#### My understanding is that \"Donut\" is just the way that the Lightpipes refers to beams with OAM.\n",
    "F=OAM(0)\n",
    "plotint(F)\n",
    "plotphase(F)"
   ]
  },
  {
   "cell_type": "code",
   "execution_count": null,
   "metadata": {},
   "outputs": [],
   "source": [
    "# This is an example of generating a single turbulence screen with the AOtools library.  I do not claim to fully understand what the last two inputs are,\n",
    "# I am pretty sure I got those values from the internet though and they should be good.\n",
    "\n",
    "phase=aotools.turbulence.phasescreen.ft_sh_phase_screen(r0,N,size/N,100,0.001)"
   ]
  },
  {
   "cell_type": "code",
   "execution_count": null,
   "metadata": {},
   "outputs": [],
   "source": [
    "#I don't know if this one, or the next one is better. There is something interesting going on where the boundaries are\n",
    "# reflective, so in propagation stuff looks funny\n",
    "beam=OAM(0)\n",
    "for i in range(10):\n",
    "    phase=aotools.turbulence.phasescreen.ft_sh_phase_screen(10000,N,size/N,100,0.001)\n",
    "    beam=SubPhase(beam,Phase(beam)+phase)\n",
    "    beam=Fresnel(beam,500)\n",
    "    plotphase(beam)\n",
    "    plotint(beam)\n",
    "plotbeam(beam)"
   ]
  },
  {
   "cell_type": "code",
   "execution_count": null,
   "metadata": {},
   "outputs": [],
   "source": [
    "F=OAM(0)\n",
    "for i in range(n):\n",
    "    phase=aotools.turbulence.phasescreen.ft_sh_phase_screen(r0,N,size/N,100,1*mm)\n",
    "\n",
    "    fig=plt.figure(figsize=(5,5))\n",
    "    ax1 = fig.add_subplot(121)\n",
    "    ax1.imshow(np.mod(phase+np.min(phase),2*pi),cmap=pmap,vmin=0,vmax=2*pi,interpolation='None')\n",
    "    ##ax1.add_patch(aperature)\n",
    "        \n",
    "    plt.axis('off')\n",
    "    print(np.max(Intensity(F)))\n",
    "    F=SubPhase(F,Phase(F)+phase)\n",
    "    F=Fresnel(F,z/n)\n",
    "\n",
    "    plotbeam(F)\n",
    "\n",
    "\n"
   ]
  },
  {
   "cell_type": "code",
   "execution_count": null,
   "metadata": {},
   "outputs": [],
   "source": []
  },
  {
   "cell_type": "code",
   "execution_count": null,
   "metadata": {},
   "outputs": [],
   "source": []
  },
  {
   "cell_type": "code",
   "execution_count": null,
   "metadata": {},
   "outputs": [],
   "source": []
  },
  {
   "cell_type": "code",
   "execution_count": null,
   "metadata": {},
   "outputs": [],
   "source": []
  },
  {
   "cell_type": "code",
   "execution_count": null,
   "metadata": {},
   "outputs": [],
   "source": []
  }
 ],
 "metadata": {
  "kernelspec": {
   "display_name": "Python 3",
   "language": "python",
   "name": "python3"
  },
  "language_info": {
   "codemirror_mode": {
    "name": "ipython",
    "version": 3
   },
   "file_extension": ".py",
   "mimetype": "text/x-python",
   "name": "python",
   "nbconvert_exporter": "python",
   "pygments_lexer": "ipython3",
   "version": "3.12.3"
  }
 },
 "nbformat": 4,
 "nbformat_minor": 2
}
