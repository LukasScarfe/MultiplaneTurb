{
 "cells": [
  {
   "cell_type": "markdown",
   "metadata": {
    "slideshow": {
     "slide_type": "slide"
    }
   },
   "source": [
    "# Imports and Commands"
   ]
  },
  {
   "cell_type": "markdown",
   "metadata": {},
   "source": [
    "## Imports"
   ]
  },
  {
   "cell_type": "code",
   "execution_count": 207,
   "metadata": {},
   "outputs": [],
   "source": [
    "##ALL OF THE IMPORTS AND SUCH\n",
    "\n",
    "from LightPipes import *\n",
    "import matplotlib.pyplot as plt\n",
    "import matplotlib.colors\n",
    "import matplotlib.cm\n",
    "import math\n",
    "import cmath\n",
    "from numpy import genfromtxt\n",
    "import colorcet as cc\n",
    "import random\n",
    "import aotools\n",
    "import itertools\n",
    "from tqdm import tqdm as progress\n",
    "\n",
    "import numpy as np\n",
    "from numpy.linalg import eig\n",
    "import scipy as sp\n",
    "\n",
    "plt.style.use('dark_background')"
   ]
  },
  {
   "cell_type": "markdown",
   "metadata": {},
   "source": [
    "## Colourmaps"
   ]
  },
  {
   "cell_type": "code",
   "execution_count": 105,
   "metadata": {},
   "outputs": [],
   "source": [
    "#Generate Colormap Intensity\n",
    "cmap = np.zeros([256, 4])\n",
    "cmap[:, 3] = np.linspace(0, 1, 256)\n",
    "cmap[:, 0]= np.linspace(0, 0, 256)\n",
    "cmap[:, 1]= np.linspace(0, 0, 256)\n",
    "cmap[:, 2]= np.linspace(0, 0, 256)\n",
    "#Intensity colours\n",
    "imap = matplotlib.colors.ListedColormap(cmap)\n",
    "#Phase colours\n",
    "pmap= cc.m_CET_C6"
   ]
  },
  {
   "cell_type": "code",
   "execution_count": null,
   "metadata": {},
   "outputs": [],
   "source": [
    "#Generate Phase colormap\n",
    "import pylab as pl\n",
    "import numpy as np\n",
    "\n",
    "a = np.array([[0,1]])\n",
    "pl.figure(figsize=(9, 1.5))\n",
    "img = pl.imshow(a, cmap=pmap)\n",
    "pl.gca().set_visible(False)\n",
    "cax = pl.axes([0.1, 0.1, 1.2, 2])\n",
    "pl.colorbar(orientation=\"horizontal\", cax=cax, ticks=[])\n",
    "pl.savefig(\"colorbar.png\")"
   ]
  },
  {
   "cell_type": "markdown",
   "metadata": {},
   "source": [
    "## Functions"
   ]
  },
  {
   "cell_type": "code",
   "execution_count": 550,
   "metadata": {},
   "outputs": [],
   "source": [
    "#These are some functions for making beams in the OAM Basis\n",
    "\n",
    "# Generate mode list for complex superposition beams \n",
    "def ell(d):\n",
    "    if d%2 == 0:\n",
    "        l=np.linspace(-np.floor(d/2),np.floor(d/2),d+1,dtype=int)\n",
    "        l=l[l != 0]\n",
    "    else:\n",
    "        l=np.linspace(-np.floor(d/2),np.floor(d/2),d,dtype=int)\n",
    "    return l\n",
    "\n",
    "#Phases for arbitrary MUBs in prime dimensions\n",
    "def MUBphases(d,MUB):\n",
    "    phi,p=[],[]\n",
    "    for state in range(d):\n",
    "        for j in range(d):\n",
    "            p.append(((2*np.pi/d)*(MUB*(j**2)+state*j)))\n",
    "        phi.append(p)\n",
    "        p=[]\n",
    "    return phi\n",
    "\n",
    "#Mixing large amount of beams in a loop\n",
    "def MixManyBeams(beams):\n",
    "    if len(beams) > 1:\n",
    "        beams[1]=BeamMix(beams[0],beams[1])\n",
    "        beams.pop(0)\n",
    "        MixManyBeams(beams)\n",
    "    return beams[0]\n",
    "\n",
    "#OAM beams \n",
    "def OAM(state: int=0 ,phase=0,amp=1):\n",
    "    F=Begin(size,wavelength,N)\n",
    "    F=GaussLaguerre(F, w0, p=0, l=state, A=amp*(1/w0)*np.sqrt(2/(np.pi*(math.factorial(abs(state))))), ecs=0)\n",
    "    F=SubPhase(F,Phase(F)+phase)\n",
    "    return F\n",
    "\n",
    "#Arbitrary ANG mode in dimension d\n",
    "def ANG(d,state,norm=0):\n",
    "    intensityNorm=[1,1,187.3568368182197,302.7415771427128,281.4774347094998,342.95046333063704,1,330.2491174614896,276.25225696328897,1,1,1,1,1,1,1,1,1,1,1,1,1]\n",
    "    Q,p=[],[]\n",
    "    l=ell(d)\n",
    "    \n",
    "    for i in range(d):\n",
    "        p.append((2*np.pi/d)*i*state)\n",
    "\n",
    "    for i in range(d):\n",
    "        Q.append(OAM(l[i],p[i]))\n",
    "\n",
    "    F=MixManyBeams(Q)\n",
    "\n",
    "    if norm==1:\n",
    "        return [F,intensityNorm[d]]\n",
    "    else:\n",
    "        return F\n",
    "\n",
    "#Arbitrary MUB in d dimensions {2,3,4,5,7,8}\n",
    "def ArbMUB(d,MUB,state,norm=0):\n",
    "    intensityNorm=[1,1,187.3568368182197,302.7415771427128,281.4774347094998,342.95046333063704,1,330.2491174614896,276.25225696328897,1,1,1,1,1,1,1,1,1,1,1,1,1]\n",
    "    Q,p=[],[]\n",
    "    l=ell(d)\n",
    "    if d==2:\n",
    "        p=[[[0,0],[0,np.pi]],[[0,np.pi/2],[0,3*np.pi/2]]][MUB][state]\n",
    "    elif d==4:\n",
    "        p=[[[0,0,0,0],[0,np.pi,np.pi,0],[0,0,np.pi,np.pi],[0,np.pi,0,np.pi]],[[0,np.pi/2,np.pi/2,np.pi],[0,3*np.pi/2,3*np.pi/2,np.pi],[0,np.pi/2,3*np.pi/2,0],[0,3*np.pi/2,np.pi/2,0]],[[0,0,3*np.pi/2,np.pi/2],[0,np.pi,np.pi/2,np.pi/2],[0,0,np.pi/2,3*np.pi/2],[0,np.pi,3*np.pi/2,3*np.pi/2]],[[0,3*np.pi/2,0,np.pi/2],[0,np.pi/2,np.pi,np.pi/2],[0,np.pi/2,0,3*np.pi/2],[0,3*np.pi/2,np.pi,3*np.pi/2]]][MUB][state]\n",
    "    elif d==8:\n",
    "        p=[[[0,0,0,0,0,0,0,0],[0,np.pi/2,np.pi/2,np.pi,np.pi/2,np.pi,np.pi,3*np.pi/2],[0,np.pi/2,0,np.pi/2,0,3*np.pi/2,np.pi,np.pi/2],[0,0,np.pi/2,np.pi/2,np.pi/2,3*np.pi/2,0,np.pi],[0,0,np.pi/2,3*np.pi/2,0,np.pi,np.pi/2,np.pi/2],[0,np.pi/2,0,3*np.pi/2,np.pi/2,0,np.pi/2,np.pi],[0,np.pi/2,np.pi/2,0,0,np.pi/2,3*np.pi/2,np.pi],[0,0,0,np.pi,np.pi/2,np.pi/2,3*np.pi/2,np.pi/2]],[[0,np.pi,0,np.pi,0,np.pi,0,np.pi],[0,3*np.pi/2,np.pi/2,0,np.pi/2,0,np.pi,np.pi/2],[0,3*np.pi/2,0,3*np.pi/2,0,np.pi/2,np.pi,3*np.pi/2],[0,np.pi,np.pi/2,3*np.pi/2,np.pi/2,np.pi/2,0,0],[0,np.pi,np.pi/2,np.pi/2,0,0,np.pi/2,3*np.pi/2],[0,3*np.pi/2,0,np.pi/2,np.pi/2,np.pi,np.pi/2,0],[0,3*np.pi/2,np.pi/2,np.pi,0,3*np.pi/2,3*np.pi/2,0],[0,np.pi,0,0,np.pi/2,3*np.pi/2,3*np.pi/2,3*np.pi/2]],[[0,0,np.pi,np.pi,0,0,np.pi,np.pi],[0,np.pi/2,3*np.pi/2,0,np.pi/2,np.pi,0,np.pi/2],[0,np.pi/2,np.pi,3*np.pi/2,0,3*np.pi/2,0,3*np.pi/2],[0,0,3*np.pi/2,3*np.pi/2,np.pi/2,3*np.pi/2,np.pi,0],[0,0,3*np.pi/2,np.pi/2,0,np.pi,3*np.pi/2,3*np.pi/2],[0,np.pi/2,np.pi,np.pi/2,np.pi/2,0,3*np.pi/2,0],[0,np.pi/2,3*np.pi/2,np.pi,0,np.pi/2,np.pi/2,0],[0,0,np.pi,0,np.pi/2,np.pi/2,np.pi/2,3*np.pi/2]],[[0,np.pi,np.pi,0,0,np.pi,np.pi,0],[0,3*np.pi/2,3*np.pi/2,np.pi,np.pi/2,0,0,3*np.pi/2],[0,3*np.pi/2,np.pi,np.pi/2,0,np.pi/2,0,np.pi/2],[0,np.pi,3*np.pi/2,np.pi/2,np.pi/2,np.pi/2,np.pi,np.pi],[0,np.pi,3*np.pi/2,3*np.pi/2,0,0,3*np.pi/2,np.pi/2],[0,3*np.pi/2,np.pi,3*np.pi/2,np.pi/2,np.pi,3*np.pi/2,np.pi],[0,3*np.pi/2,3*np.pi/2,0,0,3*np.pi/2,np.pi/2,np.pi],[0,np.pi,np.pi,np.pi,np.pi/2,3*np.pi/2,np.pi/2,np.pi/2]],[[0,0,0,0,np.pi,np.pi,np.pi,np.pi],[0,np.pi/2,np.pi/2,np.pi,3*np.pi/2,0,0,np.pi/2],[0,np.pi/2,0,np.pi/2,np.pi,np.pi/2,0,3*np.pi/2],[0,0,np.pi/2,np.pi/2,3*np.pi/2,np.pi/2,np.pi,0],[0,0,np.pi/2,3*np.pi/2,np.pi,0,3*np.pi/2,3*np.pi/2],[0,np.pi/2,0,3*np.pi/2,3*np.pi/2,np.pi,3*np.pi/2,0],[0,np.pi/2,np.pi/2,0,np.pi,3*np.pi/2,np.pi/2,0],[0,0,0,np.pi,3*np.pi/2,3*np.pi/2,np.pi/2,3*np.pi/2]],[[0,np.pi,0,np.pi,np.pi,0,np.pi,0],[0,3*np.pi/2,np.pi/2,0,3*np.pi/2,np.pi,0,3*np.pi/2],[0,3*np.pi/2,0,3*np.pi/2,np.pi,3*np.pi/2,0,np.pi/2],[0,np.pi,np.pi/2,3*np.pi/2,3*np.pi/2,3*np.pi/2,np.pi,np.pi],[0,np.pi,np.pi/2,np.pi/2,np.pi,np.pi,3*np.pi/2,np.pi/2],[0,3*np.pi/2,0,np.pi/2,3*np.pi/2,0,3*np.pi/2,np.pi],[0,3*np.pi/2,np.pi/2,np.pi,np.pi,np.pi/2,np.pi/2,np.pi],[0,np.pi,0,0,3*np.pi/2,np.pi/2,np.pi/2,np.pi/2]],[[0,0,np.pi,np.pi,np.pi,np.pi,0,0],[0,np.pi/2,3*np.pi/2,0,3*np.pi/2,0,np.pi,3*np.pi/2],[0,np.pi/2,np.pi,3*np.pi/2,np.pi,np.pi/2,np.pi,np.pi/2],[0,0,3*np.pi/2,3*np.pi/2,3*np.pi/2,np.pi/2,0,np.pi],[0,0,3*np.pi/2,np.pi/2,np.pi,0,np.pi/2,np.pi/2],[0,np.pi/2,np.pi,np.pi/2,3*np.pi/2,np.pi,np.pi/2,np.pi],[0,np.pi/2,3*np.pi/2,np.pi,np.pi,3*np.pi/2,3*np.pi/2,np.pi],[0,0,np.pi,0,3*np.pi/2,3*np.pi/2,3*np.pi/2,np.pi/2]],[[0,np.pi,np.pi,0,np.pi,0,0,np.pi],[0,3*np.pi/2,3*np.pi/2,np.pi,3*np.pi/2,np.pi,np.pi,np.pi/2],[0,3*np.pi/2,np.pi,np.pi/2,np.pi,3*np.pi/2,np.pi,3*np.pi/2],[0,np.pi,3*np.pi/2,np.pi/2,3*np.pi/2,3*np.pi/2,0,0],[0,np.pi,3*np.pi/2,3*np.pi/2,np.pi,np.pi,np.pi/2,3*np.pi/2],[0,3*np.pi/2,np.pi,3*np.pi/2,3*np.pi/2,0,np.pi/2,0],[0,3*np.pi/2,3*np.pi/2,0,np.pi,np.pi/2,3*np.pi/2,0],[0,np.pi,np.pi,np.pi,3*np.pi/2,np.pi/2,3*np.pi/2,3*np.pi/2]]][state][MUB]\n",
    "    else:\n",
    "        for j in range(d):\n",
    "            p.append(((2*np.pi/d)*(MUB*(j**2)+state*j)))\n",
    "            \n",
    "    for i in range(d):\n",
    "        Q.append(OAM(l[i],p[i]))\n",
    "    F=MixManyBeams(Q)\n",
    "\n",
    "    if norm==1:\n",
    "        return [F,intensityNorm[d]]\n",
    "    else:\n",
    "        return F\n",
    "    "
   ]
  },
  {
   "cell_type": "code",
   "execution_count": 220,
   "metadata": {},
   "outputs": [],
   "source": [
    "##These are custom functions for plotting the beams.\n",
    "\n",
    "#Show a plot of the beam with phase and intensity\n",
    "def plotbeam(F):\n",
    "    I=1-Intensity(1,F)\n",
    "    Phi=np.mod(Phase(F),2*pi)\n",
    "\n",
    "    ##aperature = plt.Circle((N/2-1, N/2), 30*cm*N/(2*size), color='w', fill=False)\n",
    "    fig=plt.figure(figsize=(5,5))\n",
    "    ax1 = fig.add_subplot(121)\n",
    "    ax1.imshow(Phi,cmap=pmap,vmin=0,vmax=2*pi,interpolation='None')\n",
    "    ax1.imshow(I,cmap=imap,vmin=np.min(I),vmax=np.max(I),interpolation='None')\n",
    "    ##ax1.add_patch(aperature)\n",
    "        \n",
    "    plt.axis('off')\n",
    "    plt.tight_layout()\n",
    "\n",
    "#Show a plot of the intensity distribution of the beam\n",
    "def plotint(F,norm=1):\n",
    "    F=Normal(F)\n",
    "    if norm==1:\n",
    "        I=Intensity(1,F)\n",
    "    else:\n",
    "        I=Intensity(0,F)\n",
    "\n",
    "    ##aperature = plt.Circle((N/2-1, N/2), 30*cm*N/(2*size), color='w', fill=False)\n",
    "    fig=plt.figure(figsize=(5,5))\n",
    "    ax1 = fig.add_subplot(121)\n",
    "    ax1.imshow(I,cmap='grey',vmin=0,vmax=norm)\n",
    "    ##ax1.add_patch(aperature)\n",
    "        \n",
    "    plt.axis('off')\n",
    "    plt.tight_layout()\n",
    "    return I\n",
    "\n",
    "#Show a plot of the phase distribution of the beam\n",
    "def plotphase(F):\n",
    "    Phi=np.mod(Phase(F),2*pi)\n",
    "\n",
    "    ##aperature = plt.Circle((N/2-1, N/2), 30*cm*N/(2*size), color='w', fill=False)\n",
    "    fig=plt.figure(figsize=(5,5))\n",
    "    ax1 = fig.add_subplot(121)\n",
    "    ax1.imshow(Phi,cmap=pmap,vmin=0,vmax=2*pi,interpolation='None')\n",
    "    ##ax1.add_patch(aperature)\n",
    "        \n",
    "    plt.axis('off')\n",
    "\n",
    "    plt.tight_layout()\n",
    "\n",
    "#Save a plot of the beam with phase and intensity\n",
    "def savebeam(F,name='unnamed',norm=1):\n",
    "    F=Normal(F)\n",
    "    if norm==1:\n",
    "        I=1-Intensity(1,F)\n",
    "    else:\n",
    "        I=norm-Intensity(0,F)\n",
    "    Phi=np.mod(Phase(F),2*pi)\n",
    "\n",
    "    fig=plt.figure(figsize=(5,5))\n",
    "    ax1 = fig.add_subplot()\n",
    "    ax1.imshow(Phi,cmap=pmap,vmin=0,vmax=2*pi,interpolation='None')\n",
    "    ax1.imshow(I,cmap=imap,vmin=0,vmax=norm)\n",
    "    ax1.axis(\"off\")\n",
    "        \n",
    "    plt.savefig(name+'.png', bbox_inches=0)\n",
    "    plt.close(\"all\")"
   ]
  },
  {
   "cell_type": "code",
   "execution_count": 110,
   "metadata": {},
   "outputs": [],
   "source": [
    "#These are custom functions to calculate the overlap integral between two modes\n",
    "\n",
    "# This is the overlap integral to check the fidelity between two modes\n",
    "def overlapInt(F,G):\n",
    "    #F,G=Normal(F),Normal(G)\n",
    "    Ffield,Gfield=np.conjugate(F.field),G.field\n",
    "    fieldArr=np.multiply(Ffield,Gfield)\n",
    "    summed=abs(np.sum(fieldArr))**2\n",
    "    return summed\n",
    "\n",
    "#Normalizes the overlap integrals for a tomographic measurement in dimension d. \n",
    "def normTomography(ints, d):\n",
    "    return np.concatenate([\n",
    "        chunk / chunk.sum() if chunk.sum() != 0 else chunk\n",
    "        for chunk in np.split(ints, range(d, len(ints), d))\n",
    "    ])\n",
    "    "
   ]
  },
  {
   "cell_type": "code",
   "execution_count": 427,
   "metadata": {},
   "outputs": [],
   "source": [
    "#Functions to propogate the beam through a channel\n",
    "\n",
    "#Propagates one beam through the channel defined by the distance and the list of abberations that is input (abbs)\n",
    "#If no abberations, distance is the whole channel\n",
    "#If there are abberations, distance is the distance per abberation\n",
    "def propChannel(F,distance,abbs=0):\n",
    "    if not hasattr(abbs, \"__len__\"):\n",
    "        F=Fresnel(F,distance)\n",
    "    else:\n",
    "        for screen in abbs:\n",
    "            F=SubPhase(F,Phase(F)+screen)\n",
    "            F=Fresnel(F,distance)\n",
    "    return F"
   ]
  },
  {
   "cell_type": "code",
   "execution_count": 133,
   "metadata": {},
   "outputs": [],
   "source": [
    "#Calculate full crosstalk of two beam lists\n",
    "\n",
    "def crosstalk(Fs,Gs):\n",
    "    c,C=[],[]\n",
    "    for F in Fs:\n",
    "        c=[]\n",
    "        for G in Gs:\n",
    "            c.append(overlapInt(F,G))\n",
    "        C.append(c/sum(c))\n",
    "    return C\n",
    "\n",
    "def tomography(Fs,Gs):\n",
    "    c,C=[],[]\n",
    "    for F in Fs:\n",
    "        c=[]\n",
    "        for G in Gs:\n",
    "            c.append(overlapInt(F,G))\n",
    "        C.append(normTomography(c,math.isqrt(len(Fs))))\n",
    "    return C\n",
    "\n",
    "def plotCrosstalk(cross):\n",
    "    plt.imshow(cross, interpolation='none', cmap='viridis', vmin=0,vmax=1)\n",
    "    plt.show()"
   ]
  },
  {
   "cell_type": "markdown",
   "metadata": {},
   "source": [
    "## Constants"
   ]
  },
  {
   "cell_type": "code",
   "execution_count": 462,
   "metadata": {},
   "outputs": [],
   "source": [
    "#Constants\n",
    "pi=3.141592653\n",
    "\n",
    "#Beam Params\n",
    "size = 60*cm\n",
    "wavelength = 785*nm\n",
    "w0=5*cm\n",
    "N=128\n",
    "#Propagataion Params\n",
    "z=100\n",
    "r0=0.15\n",
    "scint=0.5\n",
    "#number of phase screens\n",
    "n=1"
   ]
  },
  {
   "cell_type": "markdown",
   "metadata": {},
   "source": [
    "# Code for doing Things"
   ]
  },
  {
   "cell_type": "markdown",
   "metadata": {},
   "source": [
    "##Testing pixel modes"
   ]
  },
  {
   "cell_type": "code",
   "execution_count": 499,
   "metadata": {},
   "outputs": [
    {
     "name": "stdout",
     "output_type": "stream",
     "text": [
      "[[0. 0. 0. ... 0. 0. 0.]\n",
      " [0. 0. 0. ... 0. 0. 0.]\n",
      " [0. 0. 0. ... 0. 0. 0.]\n",
      " ...\n",
      " [0. 0. 0. ... 0. 0. 0.]\n",
      " [0. 0. 0. ... 0. 0. 0.]\n",
      " [0. 0. 0. ... 0. 0. 0.]]\n"
     ]
    }
   ],
   "source": [
    "test=np.empty((int((N/2)**2),int((N/2)**2)))\n",
    "print(test)\n"
   ]
  },
  {
   "cell_type": "code",
   "execution_count": 523,
   "metadata": {},
   "outputs": [
    {
     "name": "stderr",
     "output_type": "stream",
     "text": [
      "100%|██████████| 64/64 [00:49<00:00,  1.28it/s]\n"
     ]
    }
   ],
   "source": [
    "F=Begin(size,wavelength,N)\n",
    "F=SubPhase(F,np.zeros((N,N)))\n",
    "intenseAll=[]\n",
    "initBeams=[]\n",
    "endFields=[]\n",
    "for j in progress(range(int(128/4),int(3*128/4))):\n",
    "    for i in range(int(128/4),int(3*128/4)):\n",
    "        intens=np.zeros((N,N))\n",
    "        intens[j][i]=1\n",
    "        intenseAll.append(intens)\n",
    "        F=SubIntensity(F,intens)\n",
    "        initBeams.append(F)\n",
    "        endFields.append(Fresnel(F,z).field[int(128/4):int(3*128/4)][int(128/4):int(3*128/4)])\n"
   ]
  },
  {
   "cell_type": "code",
   "execution_count": 524,
   "metadata": {},
   "outputs": [
    {
     "data": {
      "text/plain": [
       "4096"
      ]
     },
     "execution_count": 524,
     "metadata": {},
     "output_type": "execute_result"
    }
   ],
   "source": [
    "len(initBeams)"
   ]
  },
  {
   "cell_type": "code",
   "execution_count": 525,
   "metadata": {},
   "outputs": [
    {
     "data": {
      "text/plain": [
       "4096"
      ]
     },
     "execution_count": 525,
     "metadata": {},
     "output_type": "execute_result"
    }
   ],
   "source": [
    "len(endFields)"
   ]
  },
  {
   "cell_type": "code",
   "execution_count": 529,
   "metadata": {},
   "outputs": [],
   "source": [
    "transferMatrix=np.array(endFields).reshape(4096,int(128/2)**2)\n",
    "\n",
    "w,v=eig(transferMatrix)"
   ]
  },
  {
   "cell_type": "code",
   "execution_count": 569,
   "metadata": {},
   "outputs": [],
   "source": [
    "eigModeVec=v"
   ]
  },
  {
   "cell_type": "code",
   "execution_count": 570,
   "metadata": {},
   "outputs": [],
   "source": [
    "eig1Int=[abs(eigModeVec[0][i]) for i in range(len(eigModeVec[0]))]\n",
    "eig1Phase=[cmath.phase(eigModeVec[0][i]) for i in range(len(eigModeVec[0]))]"
   ]
  },
  {
   "cell_type": "code",
   "execution_count": 571,
   "metadata": {},
   "outputs": [
    {
     "data": {
      "text/plain": [
       "4096"
      ]
     },
     "execution_count": 571,
     "metadata": {},
     "output_type": "execute_result"
    }
   ],
   "source": [
    "len(eig1Phase)"
   ]
  },
  {
   "cell_type": "code",
   "execution_count": 572,
   "metadata": {},
   "outputs": [],
   "source": [
    "eigmode1init=[SubPhase(SubIntensity(beam,Intensity(beam)/int**2),Phase(beam)+phase) for beam,int,phase in zip(initBeams,eig1Int,eig1Phase)]"
   ]
  },
  {
   "cell_type": "code",
   "execution_count": 573,
   "metadata": {},
   "outputs": [
    {
     "data": {
      "text/plain": [
       "4096"
      ]
     },
     "execution_count": 573,
     "metadata": {},
     "output_type": "execute_result"
    }
   ],
   "source": [
    "len(eigmode1init)"
   ]
  },
  {
   "cell_type": "code",
   "execution_count": 574,
   "metadata": {},
   "outputs": [
    {
     "data": {
      "image/png": "[encoded data removed]",
      "text/plain": [
       "<Figure size 500x500 with 1 Axes>"
      ]
     },
     "metadata": {},
     "output_type": "display_data"
    },
    {
     "data": {
      "image/png": "[encoded data removed]",
      "text/plain": [
       "<Figure size 500x500 with 1 Axes>"
      ]
     },
     "metadata": {},
     "output_type": "display_data"
    },
    {
     "data": {
      "image/png": "[encoded data removed]",
      "text/plain": [
       "<Figure size 500x500 with 1 Axes>"
      ]
     },
     "metadata": {},
     "output_type": "display_data"
    },
    {
     "data": {
      "image/png": "[encoded data removed]",
      "text/plain": [
       "<Figure size 500x500 with 1 Axes>"
      ]
     },
     "metadata": {},
     "output_type": "display_data"
    }
   ],
   "source": [
    "e1=MixManyBeams(eigmode1init[0:1024])\n",
    "plotbeam(e1)\n",
    "e2=MixManyBeams(eigmode1init[1025:2048])\n",
    "plotbeam(e2)\n",
    "e3=MixManyBeams(eigmode1init[2049:3064])\n",
    "plotbeam(e3)\n",
    "e4=MixManyBeams(eigmode1init[3065:4095])\n",
    "plotbeam(e4)"
   ]
  },
  {
   "cell_type": "code",
   "execution_count": 575,
   "metadata": {},
   "outputs": [
    {
     "data": {
      "image/png": "[encoded data removed]",
      "text/plain": [
       "<Figure size 500x500 with 1 Axes>"
      ]
     },
     "metadata": {},
     "output_type": "display_data"
    },
    {
     "data": {
      "image/png": "[encoded data removed]",
      "text/plain": [
       "<Figure size 500x500 with 1 Axes>"
      ]
     },
     "metadata": {},
     "output_type": "display_data"
    }
   ],
   "source": [
    "ei1=MixManyBeams([e1,e2,e3,e4])\n",
    "plotbeam(ei1)\n",
    "plotbeam(Fresnel(ei1,z))"
   ]
  },
  {
   "cell_type": "markdown",
   "metadata": {},
   "source": [
    "##Real Work"
   ]
  },
  {
   "cell_type": "code",
   "execution_count": null,
   "metadata": {},
   "outputs": [],
   "source": [
    "d=8\n",
    "ls=ell(d)\n",
    "beams=[OAM(l) for l in ls]\n",
    "beamsProp=[propChannel(F,z) for F in beams]\n",
    "abbs=[aotools.turbulence.phasescreen.ft_sh_phase_screen(r0,N,size/N,100,0.001) for i in range(n)]\n",
    "beamsAbbProp=[propChannel(F,z,abbs) for F in beams]\n",
    "plotbeam(propChannel(beams[0],z))\n"
   ]
  },
  {
   "cell_type": "code",
   "execution_count": null,
   "metadata": {},
   "outputs": [],
   "source": [
    "idealCross=crosstalk(beams,beams)\n",
    "cross=crosstalk(beamsProp,beamsAbbProp)\n",
    "plotCrosstalk(cross)"
   ]
  },
  {
   "cell_type": "code",
   "execution_count": 402,
   "metadata": {},
   "outputs": [],
   "source": [
    "eigBeams=[MixManyBeams([OAM(ls[i],cmath.phase(v[j][i]),abs(v[j][i])) for i in range(d)]) for j in range(d)]\n"
   ]
  },
  {
   "cell_type": "code",
   "execution_count": null,
   "metadata": {},
   "outputs": [],
   "source": [
    "plotCrosstalk(crosstalk(eigBeams,eigBeams))"
   ]
  },
  {
   "cell_type": "code",
   "execution_count": 362,
   "metadata": {},
   "outputs": [],
   "source": [
    "eigBeams=[MixManyBeams([OAM(ls[i],cmath.phase(v[j][i]),abs(v[j][i])) for i in range(d)]) for j in range(d)]\n",
    "eigBeamsProp=[propChannel(beam,z) for beam in eigBeams]\n",
    "eigBeamsabbProp=[propChannel(beam,z,abbs) for beam in eigBeams]\n",
    "#plotint(propChannel(MixManyBeams([OAM(ls[i],cmath.phase(v[0][i]),abs(v[0][i])) for i in range(d)]),z/n,abbs))"
   ]
  },
  {
   "cell_type": "code",
   "execution_count": null,
   "metadata": {},
   "outputs": [],
   "source": [
    "plotCrosstalk(crosstalk(eigBeams,eigBeams))"
   ]
  },
  {
   "cell_type": "code",
   "execution_count": null,
   "metadata": {},
   "outputs": [],
   "source": [
    "[val for pair in zip(eigBeams,eigBeamsProp) for val in pair]\n",
    "\n",
    "for beam in progress([val for pair in zip(eigBeams,eigBeamsProp) for val in pair]):\n",
    "    beam=SubPhase(beam,np.mod(Phase(beam)+np.min(Phase(beam)),2*np.pi))\n",
    "    plotbeam(beam)"
   ]
  },
  {
   "cell_type": "code",
   "execution_count": null,
   "metadata": {},
   "outputs": [],
   "source": [
    "a = np.array([[0, 2], \n",
    "              [2, 3]])\n",
    "w,v=eig(a)\n",
    "print('E-value:', w)\n",
    "print('E-vector', v)\n",
    "\n",
    "print(np.dot(a,v[1]))\n",
    "print(w[1]*v[1])"
   ]
  },
  {
   "cell_type": "code",
   "execution_count": null,
   "metadata": {},
   "outputs": [],
   "source": [
    "arr=np.array([[1,0],[0,1]])\n",
    "vec=np.array([2,3])\n",
    "print(arr*vec)"
   ]
  },
  {
   "cell_type": "code",
   "execution_count": null,
   "metadata": {},
   "outputs": [],
   "source": [
    "d=4\n",
    "ls=ell(d)\n",
    "print(ls)\n",
    "w0=5*cm\n",
    "z,n=5000,3\n",
    "r0=0.3\n",
    "OAMbeams=[OAM(i) for i in ls]\n",
    "ANGbeams=[ANG(d,i) for i in range(d)]\n",
    "ArbMUBbeams=[ArbMUB(d,j,i) for j in range(d) for i in range(d)]\n",
    "beams=OAMbeams+ArbMUBbeams\n",
    "\n",
    "beamsProp=[propChannel(F,z/n) for F in beams]\n",
    "abbs=[aotools.turbulence.phasescreen.ft_sh_phase_screen(r0,N,size/N,100,0.001) for i in range(n)]\n",
    "beamsAbbProp=[propChannel(F,z/n,abbs) for F in beams]\n",
    "\n",
    "p=tomography(beamsProp,beamsAbbProp)\n",
    "\n",
    "im = plt.imshow(p, interpolation='none', cmap='viridis', vmin=0,vmax=1)\n",
    "plt.show()\n"
   ]
  },
  {
   "cell_type": "code",
   "execution_count": null,
   "metadata": {},
   "outputs": [],
   "source": [
    "d=4\n",
    "ls=ell(d)\n",
    "print(ls)\n",
    "w0=5*cm\n",
    "z,n=5000,3\n",
    "r0=0.3\n",
    "OAMbeams=[OAM(i) for i in ls]\n",
    "ANGbeams=[ANG(d,i) for i in range(d)]\n",
    "ArbMUBbeams=[ArbMUB(d,j,i) for j in range(d) for i in range(d)]\n",
    "beams=OAMbeams+ArbMUBbeams\n",
    "\n",
    "'''abbs=[aotools.turbulence.phasescreen.ft_sh_phase_screen(r0,N,size/N,100,0.001) for i in range(n)]\n",
    "beamspropped=[propChannel(F,z/n) for F in beams]\n",
    "beamsAbbpropped=[propChannel(F,z/n,abbs) for F in beams]'''"
   ]
  },
  {
   "cell_type": "code",
   "execution_count": 438,
   "metadata": {},
   "outputs": [
    {
     "data": {
      "image/png": "[encoded data removed]",
      "text/plain": [
       "<Figure size 640x480 with 1 Axes>"
      ]
     },
     "metadata": {},
     "output_type": "display_data"
    },
    {
     "data": {
      "image/png": "[encoded data removed]",
      "text/plain": [
       "<Figure size 640x480 with 1 Axes>"
      ]
     },
     "metadata": {},
     "output_type": "display_data"
    }
   ],
   "source": [
    "d=4\n",
    "ls=ell(d)\n",
    "n=3\n",
    "\n",
    "OAMbeams=[OAM(i) for i in ls]\n",
    "ArbMUBbeams=[ArbMUB(d,j,i) for j in range(d) for i in range(d)]\n",
    "\n",
    "beams=OAMbeams+ArbMUBbeams\n",
    "beamsProp=[propChannel(F,z/n) for F in beams]\n",
    "\n",
    "\n",
    "\n",
    "abbs=[aotools.turbulence.phasescreen.ft_sh_phase_screen(10000,N,size/N,100,0.001) for i in range(n)]\n",
    "singleAbb=np.sum(abbs,axis=0)\n",
    "beamsAbbProp=[propChannel(F,z/n) for F in beams]\n",
    "beamsAbb=[SubPhase(F,Phase(F)+singleAbb) for F in beams]\n",
    "\n",
    "int1,int2=[],[]\n",
    "for F in beamsAbbProp:\n",
    "    int1=[]\n",
    "    for G in beamsProp:\n",
    "        int1.append(overlapInt(F,G))\n",
    "    int2.append(normTomography(int1,d))\n",
    "im = plt.imshow(int2, interpolation='none', cmap='viridis', vmin=0,vmax=1)\n",
    "plt.show()\n",
    "\n",
    "int1,int2=[],[]\n",
    "for F in beamsAbb:\n",
    "    int1=[]\n",
    "    for G in beams:\n",
    "        int1.append(overlapInt(F,G))\n",
    "    int2.append(normTomography(int1,d))\n",
    "im = plt.imshow(int2, interpolation='none', cmap='viridis', vmin=0,vmax=1)\n",
    "plt.show()"
   ]
  },
  {
   "cell_type": "code",
   "execution_count": null,
   "metadata": {},
   "outputs": [],
   "source": [
    "#Plot all abberations and then the final abberation if they were summed\n",
    "\n",
    "allAbbs=[aotools.turbulence.phasescreen.ft_sh_phase_screen(r0,N,size/N,100,0.001) for i in range(n)]\n",
    "singleAbb=np.sum(abbs,axis=0)\n",
    "allAbbs.append(singleAbb)\n",
    "for screen in allAbbs:\n",
    "    im = plt.imshow(np.mod(screen+np.min(screen),2*np.pi), interpolation='none', cmap=pmap,vmax=2*np.pi,vmin=0)\n",
    "    plt.show()"
   ]
  },
  {
   "cell_type": "code",
   "execution_count": null,
   "metadata": {},
   "outputs": [],
   "source": [
    "#Save figures of all of the OAMs \n",
    "N=1024\n",
    "ls=ell(8)\n",
    "for i in progress(ls):\n",
    "            savebeam(OAM(i),'OAM'+str(i))"
   ]
  },
  {
   "cell_type": "code",
   "execution_count": null,
   "metadata": {},
   "outputs": [],
   "source": [
    "#Save figures of all of the ANGs \n",
    "N=1024\n",
    "for dim in progress([2,3,4,5,6,7,8]):\n",
    "    ls=ell(dim)\n",
    "    for i in progress(range(dim)):\n",
    "                savebeam(ANG(dim,i),'ANG'+str(i))"
   ]
  },
  {
   "cell_type": "markdown",
   "metadata": {},
   "source": [
    "Below here is Attempts to begin doing simulations"
   ]
  },
  {
   "cell_type": "code",
   "execution_count": null,
   "metadata": {},
   "outputs": [],
   "source": [
    "#Constants\n",
    "pi=3.141592653\n",
    "\n",
    "#Settings for the Beam\n",
    "\n",
    "#Let us go with 785 nm for the wavelength\n",
    "wavelength = 785*nm\n",
    "\n",
    "# This is the size of the window we are generating, Our reciever is 30 cm diameter so I figured 30 cm is good\n",
    "size = 30*cm\n",
    "\n",
    "#This is the beam waist, I do not know if this is radius or if this is diameter, this would be good to check!\n",
    "#I am suspecting it is radius for some reason?\n",
    "w0=3*cm\n",
    "\n",
    "#PropogationDistance\n",
    "z=5400\n",
    "\n",
    "#Resolution, keep low for doing rough work, but when we make nice plots we need to crank it up\n",
    "N = 250\n",
    "\n",
    "#This will be the average Fried parameter that we want to simulate\n",
    "r0=0.1\n",
    "#This will be the \"Scintillation index\" Sigma_Chi^2 in the textbook I sent over. I don't know what normal values for this are.\n",
    "scint=0.5"
   ]
  },
  {
   "cell_type": "code",
   "execution_count": null,
   "metadata": {},
   "outputs": [],
   "source": [
    "F=Begin(size,wavelength,N)\n",
    "F=GaussBeam(F, w0, LG=True, n=0,m=2)\n",
    "\n",
    "plotbeam(F)"
   ]
  },
  {
   "cell_type": "code",
   "execution_count": null,
   "metadata": {},
   "outputs": [],
   "source": [
    "l=2\n",
    "\n",
    "F=OAM(l)\n",
    "plotbeam(F)\n",
    "F=OAM(-l)\n",
    "plotbeam(F)\n",
    "F=BeamMix(OAM(l),OAM(-l))\n",
    "plotbeam(F)"
   ]
  },
  {
   "cell_type": "code",
   "execution_count": null,
   "metadata": {},
   "outputs": [],
   "source": [
    "#### My understanding is that \"Donut\" is just the way that the Lightpipes refers to beams with OAM.\n",
    "F=OAM(0)\n",
    "plotint(F)\n",
    "plotphase(F)"
   ]
  },
  {
   "cell_type": "code",
   "execution_count": null,
   "metadata": {},
   "outputs": [],
   "source": [
    "# This is an example of generating a single turbulence screen with the AOtools library.  I do not claim to fully understand what the last two inputs are,\n",
    "# I am pretty sure I got those values from the internet though and they should be good.\n",
    "\n",
    "phase=aotools.turbulence.phasescreen.ft_sh_phase_screen(r0,N,size/N,100,0.001)"
   ]
  },
  {
   "cell_type": "code",
   "execution_count": null,
   "metadata": {},
   "outputs": [],
   "source": [
    "#I don't know if this one, or the next one is better. There is something interesting going on where the boundaries are\n",
    "# reflective, so in propagation stuff looks funny\n",
    "beam=OAM(0)\n",
    "for i in range(10):\n",
    "    phase=aotools.turbulence.phasescreen.ft_sh_phase_screen(10000,N,size/N,100,0.001)\n",
    "    beam=SubPhase(beam,Phase(beam)+phase)\n",
    "    beam=Fresnel(beam,500)\n",
    "    plotphase(beam)\n",
    "    plotint(beam)\n",
    "plotbeam(beam)"
   ]
  },
  {
   "cell_type": "code",
   "execution_count": null,
   "metadata": {},
   "outputs": [],
   "source": [
    "F=OAM(0)\n",
    "for i in range(n):\n",
    "    phase=aotools.turbulence.phasescreen.ft_sh_phase_screen(r0,N,size/N,100,1*mm)\n",
    "\n",
    "    fig=plt.figure(figsize=(5,5))\n",
    "    ax1 = fig.add_subplot(121)\n",
    "    ax1.imshow(np.mod(phase+np.min(phase),2*pi),cmap=pmap,vmin=0,vmax=2*pi,interpolation='None')\n",
    "    ##ax1.add_patch(aperature)\n",
    "        \n",
    "    plt.axis('off')\n",
    "    print(np.max(Intensity(F)))\n",
    "    F=SubPhase(F,Phase(F)+phase)\n",
    "    F=Fresnel(F,z/n)\n",
    "\n",
    "    plotbeam(F)\n",
    "\n",
    "\n"
   ]
  },
  {
   "cell_type": "code",
   "execution_count": null,
   "metadata": {},
   "outputs": [],
   "source": []
  },
  {
   "cell_type": "code",
   "execution_count": null,
   "metadata": {},
   "outputs": [],
   "source": []
  },
  {
   "cell_type": "code",
   "execution_count": null,
   "metadata": {},
   "outputs": [],
   "source": []
  },
  {
   "cell_type": "code",
   "execution_count": null,
   "metadata": {},
   "outputs": [],
   "source": []
  },
  {
   "cell_type": "code",
   "execution_count": null,
   "metadata": {},
   "outputs": [],
   "source": []
  }
 ],
 "metadata": {
  "kernelspec": {
   "display_name": "Python 3",
   "language": "python",
   "name": "python3"
  },
  "language_info": {
   "codemirror_mode": {
    "name": "ipython",
    "version": 3
   },
   "file_extension": ".py",
   "mimetype": "text/x-python",
   "name": "python",
   "nbconvert_exporter": "python",
   "pygments_lexer": "ipython3",
   "version": "3.12.3"
  }
 },
 "nbformat": 4,
 "nbformat_minor": 2
}
